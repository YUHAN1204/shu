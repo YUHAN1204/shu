{
 "cells": [
  {
   "cell_type": "code",
   "execution_count": 1,
   "metadata": {},
   "outputs": [
    {
     "name": "stdout",
     "output_type": "stream",
     "text": [
      "X=70\n"
     ]
    }
   ],
   "source": [
    "X=65\n",
    "if X>60:\n",
    "   X=X+5 \n",
    "print('X=%d'%(X))"
   ]
  },
  {
   "cell_type": "code",
   "execution_count": 2,
   "metadata": {},
   "outputs": [
    {
     "name": "stdout",
     "output_type": "stream",
     "text": [
      "Please input numerator:125\n",
      "Pleade input denominator:25\n",
      "125 / 25 = 5.0\n",
      "Over\n"
     ]
    }
   ],
   "source": [
    "numerator=eval(input(\"Please input numerator:\"))\n",
    "denominator=eval(input(\"Pleade input denominator:\"))\n",
    "if denominator!=0:\n",
    "   ans=numerator/denominator\n",
    "   print(numerator,\"/\",denominator,\"=\",ans)\n",
    "print(\"Over\")"
   ]
  },
  {
   "cell_type": "code",
   "execution_count": 3,
   "metadata": {},
   "outputs": [
    {
     "name": "stdout",
     "output_type": "stream",
     "text": [
      "Please input numerator:125\n",
      "Pleade input denominator:0\n",
      "Over\n"
     ]
    }
   ],
   "source": [
    "numerator=eval(input(\"Please input numerator:\"))\n",
    "denominator=eval(input(\"Pleade input denominator:\"))\n",
    "if denominator!=0:\n",
    "   ans=numerator/denominator\n",
    "   print(numerator,\"/\",denominator,\"=\",ans)\n",
    "print(\"Over\")"
   ]
  },
  {
   "cell_type": "code",
   "execution_count": 4,
   "metadata": {},
   "outputs": [
    {
     "name": "stdout",
     "output_type": "stream",
     "text": [
      "Please input numerator:125\n",
      "Pleade input denominator:25\n",
      "125 / 25 = 5.0\n",
      "Over\n"
     ]
    }
   ],
   "source": [
    "numerator=eval(input(\"Please input numerator:\"))\n",
    "denominator=eval(input(\"Pleade input denominator:\"))\n",
    "if denominator!=0:\n",
    "   ans=numerator/denominator\n",
    "   print(numerator,\"/\",denominator,\"=\",ans)\n",
    "else:\n",
    "  print(\"Denominator is invalid\")\n",
    "print(\"Over\")"
   ]
  },
  {
   "cell_type": "code",
   "execution_count": 5,
   "metadata": {},
   "outputs": [
    {
     "name": "stdout",
     "output_type": "stream",
     "text": [
      "Please input numerator:125\n",
      "Pleade input denominator:0\n",
      "Denominator is invalid\n",
      "Over\n"
     ]
    }
   ],
   "source": [
    "numerator=eval(input(\"Please input numerator:\"))\n",
    "denominator=eval(input(\"Pleade input denominator:\"))\n",
    "if denominator!=0:\n",
    "   ans=numerator/denominator\n",
    "   print(numerator,\"/\",denominator,\"=\",ans)\n",
    "else:\n",
    "  print(\"Denominator is invalid\")\n",
    "print(\"Over\")"
   ]
  },
  {
   "cell_type": "code",
   "execution_count": 6,
   "metadata": {},
   "outputs": [
    {
     "name": "stdout",
     "output_type": "stream",
     "text": [
      "Please input numerator:88\n",
      "88 is an even number.\n",
      "Over\n"
     ]
    }
   ],
   "source": [
    "num=eval(input(\"Please input numerator:\"))\n",
    "if num % 2==0:\n",
    "    print(num,\"is an even number.\")\n",
    "else:\n",
    "    print(num,\"is a even number.\")\n",
    "print(\"Over\")"
   ]
  },
  {
   "cell_type": "code",
   "execution_count": 7,
   "metadata": {},
   "outputs": [
    {
     "name": "stdout",
     "output_type": "stream",
     "text": [
      "Please input numerator:89\n",
      "89 is a even number.\n",
      "Over\n"
     ]
    }
   ],
   "source": [
    "num=eval(input(\"Please input numerator:\"))\n",
    "if num % 2==0:\n",
    "    print(num,\"is an even number.\")\n",
    "else:\n",
    "    print(num,\"is a even number.\")\n",
    "print(\"Over\")"
   ]
  },
  {
   "cell_type": "code",
   "execution_count": 8,
   "metadata": {},
   "outputs": [
    {
     "name": "stdout",
     "output_type": "stream",
     "text": [
      "Please input numerator:20\n",
      "20 is a greater than 0\n",
      "Over\n"
     ]
    }
   ],
   "source": [
    "number=eval(input(\"Please input numerator:\"))\n",
    "if number >0:\n",
    "   print(number,\"is a greater than 0\") \n",
    "else:\n",
    "  if number <0:    \n",
    "     print(number,\"is less than 0\")  \n",
    "  else:\n",
    "     print(number,\"is equal to 0\")  \n",
    "print(\"Over\")"
   ]
  },
  {
   "cell_type": "code",
   "execution_count": 9,
   "metadata": {},
   "outputs": [
    {
     "name": "stdout",
     "output_type": "stream",
     "text": [
      "Please input numerator:-10\n",
      "-10 is less than 0\n",
      "Over\n"
     ]
    }
   ],
   "source": [
    "number=eval(input(\"Please input numerator:\"))\n",
    "if number >0:\n",
    "   print(number,\"is a greater than 0\") \n",
    "else:\n",
    "  if number <0:    \n",
    "     print(number,\"is less than 0\")  \n",
    "  else:\n",
    "     print(number,\"is equal to 0\")  \n",
    "print(\"Over\")"
   ]
  },
  {
   "cell_type": "code",
   "execution_count": 10,
   "metadata": {},
   "outputs": [
    {
     "name": "stdout",
     "output_type": "stream",
     "text": [
      "Please input numerator:0\n",
      "0 is equal to 0\n",
      "Over\n"
     ]
    }
   ],
   "source": [
    "number=eval(input(\"Please input numerator:\"))\n",
    "if number >0:\n",
    "   print(number,\"is a greater than 0\") \n",
    "else:\n",
    "  if number <0:    \n",
    "     print(number,\"is less than 0\")  \n",
    "  else:\n",
    "     print(number,\"is equal to 0\")  \n",
    "print(\"Over\")"
   ]
  },
  {
   "cell_type": "code",
   "execution_count": 11,
   "metadata": {},
   "outputs": [
    {
     "name": "stdout",
     "output_type": "stream",
     "text": [
      "Please input your score:86\n",
      "Grade A\n"
     ]
    }
   ],
   "source": [
    "score=eval(input(\"Please input your score:\"))\n",
    "if score>=80:\n",
    "    print(\"Grade A\")\n",
    "elif score>=70:\n",
    "    print(\"Grade B\")\n",
    "elif score>=60:\n",
    "    print(\"Grade C\")\n",
    "elif score>=50:\n",
    "    print(\"Grade D\")\n",
    "else:\n",
    "    print(\"Grade E\")"
   ]
  },
  {
   "cell_type": "code",
   "execution_count": 12,
   "metadata": {},
   "outputs": [
    {
     "name": "stdout",
     "output_type": "stream",
     "text": [
      "Please input your score:62\n",
      "Grade C\n"
     ]
    }
   ],
   "source": [
    "score=eval(input(\"Please input your score:\"))\n",
    "if score>=80:\n",
    "    print(\"Grade A\")\n",
    "elif score>=70:\n",
    "    print(\"Grade B\")\n",
    "elif score>=60:\n",
    "    print(\"Grade C\")\n",
    "elif score>=50:\n",
    "    print(\"Grade D\")\n",
    "else:\n",
    "    print(\"Grade E\")"
   ]
  },
  {
   "cell_type": "code",
   "execution_count": 1,
   "metadata": {},
   "outputs": [
    {
     "ename": "SyntaxError",
     "evalue": "invalid syntax (<ipython-input-1-ce7010c96fe4>, line 2)",
     "output_type": "error",
     "traceback": [
      "\u001b[1;36m  File \u001b[1;32m\"<ipython-input-1-ce7010c96fe4>\"\u001b[1;36m, line \u001b[1;32m2\u001b[0m\n\u001b[1;33m    height=eval(input(\"Please input your height(centimeter):\"))\u001b[0m\n\u001b[1;37m    ^\u001b[0m\n\u001b[1;31mSyntaxError\u001b[0m\u001b[1;31m:\u001b[0m invalid syntax\n"
     ]
    }
   ],
   "source": [
    "weight=eval(input(\"Please input your weight(kilogram):\")\n",
    "height=eval(input(\"Please input your height(centimeter):\"))\n",
    "heightInCentimeter=(height/100)\n",
    "            \n",
    "            \n",
    "bmi=weight/(heightInCentimeter*heightInCentimeter)          \n",
    "print(\"Your BMI is\"format(bmi,\".2f\")\n",
    "      \n",
    "      \n",
    "if bmi<18.5:\n",
    "   print(\"Underweight\")\n",
    "elif bmi<25:\n",
    "   print(\"Normal\")\n",
    "elif bmi<30:\n",
    "   print(\"Overweight\")\n",
    "else:\n",
    "   print(\"Obese\")"
   ]
  },
  {
   "cell_type": "code",
   "execution_count": 19,
   "metadata": {},
   "outputs": [
    {
     "name": "stdout",
     "output_type": "stream",
     "text": [
      "Please enter a number:-100\n",
      "100\n"
     ]
    }
   ],
   "source": [
    "number=eval(input(\"Please enter a number:\"))\n",
    "\n",
    "\n",
    "if number >=0:\n",
    "   print(number)\n",
    "else:\n",
    "   print(-number)"
   ]
  },
  {
   "cell_type": "code",
   "execution_count": 20,
   "metadata": {},
   "outputs": [
    {
     "name": "stdout",
     "output_type": "stream",
     "text": [
      "Please enter a number:100\n",
      "100\n"
     ]
    }
   ],
   "source": [
    "number=eval(input(\"Please enter a number:\"))\n",
    "\n",
    "\n",
    "if number >=0:\n",
    "   print(number)\n",
    "else:\n",
    "   print(-number)"
   ]
  },
  {
   "cell_type": "code",
   "execution_count": 21,
   "metadata": {},
   "outputs": [
    {
     "name": "stdout",
     "output_type": "stream",
     "text": [
      "Please input your score:90\n",
      "ypu pass\n"
     ]
    }
   ],
   "source": [
    "score=eval(input(\"Please input your score:\"))\n",
    "if score >=60:\n",
    "   print('ypu pass')\n",
    "else:\n",
    "   print('you fail')"
   ]
  },
  {
   "cell_type": "code",
   "execution_count": 22,
   "metadata": {},
   "outputs": [
    {
     "name": "stdout",
     "output_type": "stream",
     "text": [
      "Please input your score:50\n",
      "you fail\n"
     ]
    }
   ],
   "source": [
    "score=eval(input(\"Please input your score:\"))\n",
    "if score >=60:\n",
    "   print('ypu pass')\n",
    "else:\n",
    "   print('you fail')"
   ]
  },
  {
   "cell_type": "code",
   "execution_count": 26,
   "metadata": {},
   "outputs": [
    {
     "name": "stdout",
     "output_type": "stream",
     "text": [
      "Enter number1):88\n",
      "Enter number2):66\n",
      "Enter an arithmetic operator(+,-,*,/):-\n",
      "88.0000-66.0000=22.0000\n"
     ]
    }
   ],
   "source": [
    "number1=eval(input('Enter number1):'))\n",
    "number2=eval(input('Enter number2):'))\n",
    "\n",
    "\n",
    "operator=input('Enter an arithmetic operator(+,-,*,/):')\n",
    "result=0\n",
    "if operator=='+':\n",
    "   result=number1+number2\n",
    "elif operator=='-':\n",
    "   result=number1-number2\n",
    "elif operator=='*':\n",
    "   result=number1*number2\n",
    "elif operator=='/':\n",
    "   result=number1/number2\n",
    "\n",
    "\n",
    "print('%.4f%c%.4f=%.4f'%(number1,operator,number2,result))"
   ]
  },
  {
   "cell_type": "code",
   "execution_count": 27,
   "metadata": {},
   "outputs": [
    {
     "name": "stdout",
     "output_type": "stream",
     "text": [
      "Enter number1):100\n",
      "Enter number2):200\n",
      "Enter an arithmetic operator(+,-,*,/):+\n",
      "100.0000+200.0000=300.0000\n"
     ]
    }
   ],
   "source": [
    "number1=eval(input('Enter number1):'))\n",
    "number2=eval(input('Enter number2):'))\n",
    "\n",
    "\n",
    "operator=input('Enter an arithmetic operator(+,-,*,/):')\n",
    "result=0\n",
    "if operator=='+':\n",
    "   result=number1+number2\n",
    "elif operator=='-':\n",
    "   result=number1-number2\n",
    "elif operator=='*':\n",
    "   result=number1*number2\n",
    "elif operator=='/':\n",
    "   result=number1/number2\n",
    "\n",
    "\n",
    "print('%.4f%c%.4f=%.4f'%(number1,operator,number2,result))"
   ]
  },
  {
   "cell_type": "code",
   "execution_count": 30,
   "metadata": {},
   "outputs": [
    {
     "name": "stdout",
     "output_type": "stream",
     "text": [
      "請輸入年齡:18\n",
      "您的年齡屬於青年\n"
     ]
    }
   ],
   "source": [
    "age=eval(input('請輸入年齡:'))\n",
    "state=''\n",
    "\n",
    "\n",
    "if age<6:\n",
    "   state='童年'\n",
    "elif age >=7 and age <=17:\n",
    "   state='少年'\n",
    "elif age >=18 and age <=40:\n",
    "   state='青年'\n",
    "elif age >=41 and age <=65:\n",
    "   state='中年'\n",
    "elif age>=66:\n",
    "   state='老年'\n",
    "\n",
    "\n",
    "print('您的年齡屬於%s'%state)"
   ]
  },
  {
   "cell_type": "code",
   "execution_count": 31,
   "metadata": {},
   "outputs": [
    {
     "name": "stdout",
     "output_type": "stream",
     "text": [
      "請輸入年齡:45\n",
      "您的年齡屬於中年\n"
     ]
    }
   ],
   "source": [
    "age=eval(input('請輸入年齡:'))\n",
    "state=''\n",
    "\n",
    "\n",
    "if age<6:\n",
    "   state='童年'\n",
    "elif age >=7 and age <=17:\n",
    "   state='少年'\n",
    "elif age >=18 and age <=40:\n",
    "   state='青年'\n",
    "elif age >=41 and age <=65:\n",
    "   state='中年'\n",
    "elif age>=66:\n",
    "   state='老年'\n",
    "\n",
    "\n",
    "print('您的年齡屬於%s'%state)"
   ]
  },
  {
   "cell_type": "code",
   "execution_count": 32,
   "metadata": {},
   "outputs": [
    {
     "name": "stdout",
     "output_type": "stream",
     "text": [
      "Is your birthday in set1?\n",
      "1 3 5 7\n",
      "9 11 13 15\n",
      "17 19 21 23\n",
      "25 27 29 31\n",
      "\n",
      "Enter 1 for Yes and 0 for No:1\n",
      "Is your birthday in set1?\n",
      "2 3 6 7\n",
      "10 11 14 15\n",
      "18 19 22 23\n",
      "26 27 30 31\n",
      "\n",
      "Enter 1 for Yes and 0 for No:0\n",
      "Is your birthday in set1?\n",
      "4 5 6 7\n",
      "12 13 14 15\n",
      "20 21 22 23\n",
      "28 29 30 31\n",
      "\n",
      "Enter 1 for Yes and 0 for No:1\n",
      "Is your birthday in set1?\n",
      "8 9 6 7\n",
      "12 13 14 15\n",
      "24 25 26 27\n",
      "28 29 30 31\n",
      "\n",
      "Enter 1 for Yes and 0 for No:1\n",
      "Is your birthday in set1?\n",
      "16 17 18 19\n",
      "20 21 22 23\n",
      "24 25 26 27\n",
      "28 29 30 31\n",
      "\n",
      "Enter 1 for Yes and 0 for No:0\n",
      "Your birthdayis 13\n"
     ]
    }
   ],
   "source": [
    "day=0\n",
    "question1=\"Is your birthday in set1?\\n\"+\\\n",
    "      \"1 3 5 7\\n\"+\\\n",
    "      \"9 11 13 15\\n\"+\\\n",
    "      \"17 19 21 23\\n\"+\\\n",
    "      \"25 27 29 31\\n\"+\\\n",
    "      \"\\nEnter 1 for Yes and 0 for No:\"\n",
    "answer=eval(input(question1))\n",
    "\n",
    "\n",
    "if answer ==1:\n",
    "   day+=1\n",
    "\n",
    "\n",
    "question2=\"Is your birthday in set1?\\n\"+\\\n",
    "      \"2 3 6 7\\n\"+\\\n",
    "      \"10 11 14 15\\n\"+\\\n",
    "      \"18 19 22 23\\n\"+\\\n",
    "      \"26 27 30 31\\n\"+\\\n",
    "      \"\\nEnter 1 for Yes and 0 for No:\"\n",
    "answer=eval(input(question2))\n",
    "\n",
    "\n",
    "if answer ==1:\n",
    "   day+=2\n",
    "\n",
    "\n",
    "question3=\"Is your birthday in set1?\\n\"+\\\n",
    "      \"4 5 6 7\\n\"+\\\n",
    "      \"12 13 14 15\\n\"+\\\n",
    "      \"20 21 22 23\\n\"+\\\n",
    "      \"28 29 30 31\\n\"+\\\n",
    "      \"\\nEnter 1 for Yes and 0 for No:\"\n",
    "answer=eval(input(question3))\n",
    "\n",
    "\n",
    "if answer ==1:\n",
    "   day+=4\n",
    "\n",
    "\n",
    "question4=\"Is your birthday in set1?\\n\"+\\\n",
    "      \"8 9 6 7\\n\"+\\\n",
    "      \"12 13 14 15\\n\"+\\\n",
    "      \"24 25 26 27\\n\"+\\\n",
    "      \"28 29 30 31\\n\"+\\\n",
    "      \"\\nEnter 1 for Yes and 0 for No:\"\n",
    "answer=eval(input(question4))\n",
    "\n",
    "\n",
    "if answer ==1:\n",
    "   day+=8\n",
    "\n",
    "\n",
    "question5=\"Is your birthday in set1?\\n\"+\\\n",
    "      \"16 17 18 19\\n\"+\\\n",
    "      \"20 21 22 23\\n\"+\\\n",
    "      \"24 25 26 27\\n\"+\\\n",
    "      \"28 29 30 31\\n\"+\\\n",
    "      \"\\nEnter 1 for Yes and 0 for No:\"\n",
    "answer=eval(input(question5))\n",
    "\n",
    "\n",
    "if answer ==1:\n",
    "   day+=16\n",
    "\n",
    "\n",
    "print(\"Your birthdayis\",day)"
   ]
  },
  {
   "cell_type": "code",
   "execution_count": 2,
   "metadata": {},
   "outputs": [
    {
     "name": "stdout",
     "output_type": "stream",
     "text": [
      "Enter your score:50\n",
      "Your score is 50\n"
     ]
    }
   ],
   "source": [
    "score=eval(input('Enter your score:'))\n",
    "if score>=60:\n",
    "   score+=10\n",
    "print('Your score is %d'%(score))"
   ]
  },
  {
   "cell_type": "code",
   "execution_count": 3,
   "metadata": {},
   "outputs": [
    {
     "name": "stdout",
     "output_type": "stream",
     "text": [
      "Enter your score:60\n",
      "Your score is 70\n"
     ]
    }
   ],
   "source": [
    "score=eval(input('Enter your score:'))\n",
    "if score>=60:\n",
    "   score+=10\n",
    "else:\n",
    "   score +=8 \n",
    "print('Your score is %d'%(score))"
   ]
  },
  {
   "cell_type": "code",
   "execution_count": 4,
   "metadata": {},
   "outputs": [
    {
     "name": "stdout",
     "output_type": "stream",
     "text": [
      "Enter temperator today:29\n",
      "Hot\n",
      "Over\n"
     ]
    }
   ],
   "source": [
    "temperator = eval(input('Enter temperator today:'))\n",
    "if temperator >=28:\n",
    "   print('Hot')\n",
    "else:\n",
    "  print('Comfortable')\n",
    "print('Over')"
   ]
  },
  {
   "cell_type": "code",
   "execution_count": 6,
   "metadata": {},
   "outputs": [
    {
     "name": "stdout",
     "output_type": "stream",
     "text": [
      "Enter temperator today:21\n",
      "Cold\n",
      "Over\n"
     ]
    }
   ],
   "source": [
    "temperator = eval(input('Enter temperator today:'))\n",
    "if temperator >=28:\n",
    "   print('Hot')\n",
    "elif temperator >=22:\n",
    "   print('Comfortable')\n",
    "else:\n",
    "  print('Cold')\n",
    "print('Over')"
   ]
  },
  {
   "cell_type": "code",
   "execution_count": 7,
   "metadata": {},
   "outputs": [
    {
     "name": "stdout",
     "output_type": "stream",
     "text": [
      "Enter temperator today:40\n",
      "Enter humility today:40\n",
      "Hot\n",
      "Over\n"
     ]
    }
   ],
   "source": [
    "temperator = eval(input('Enter temperator today:'))\n",
    "humility = eval(input('Enter humility today:'))\n",
    "if temperator >=28:\n",
    "   print('Hot') \n",
    "elif temperator >=22 and humility >=40 and humility <=50:\n",
    "   print('Comfortable') \n",
    "else:\n",
    "  print('Cold')\n",
    "print('Over')"
   ]
  },
  {
   "cell_type": "code",
   "execution_count": 8,
   "metadata": {},
   "outputs": [
    {
     "name": "stdout",
     "output_type": "stream",
     "text": [
      "Enter a character:b\n",
      "b is lowercase character\n"
     ]
    }
   ],
   "source": [
    "char = input('Enter a character:')\n",
    "if char >='a' and char <='z':\n",
    "   print('%c is lowercase character'%(char)) \n",
    "elif char >='A' and char <='z':\n",
    "   print('%c is uppercase character'%(char))\n",
    "else:\n",
    "   print('%s is other character'%(char)) "
   ]
  },
  {
   "cell_type": "code",
   "execution_count": 15,
   "metadata": {},
   "outputs": [
    {
     "name": "stdout",
     "output_type": "stream",
     "text": [
      "Good!\n"
     ]
    }
   ],
   "source": [
    "score=89\n",
    "if score>=90:\n",
    "   print('Excellent!')\n",
    "elif score >=80:\n",
    "   print('Good!')\n",
    "else:\n",
    "   print('Not bad!')"
   ]
  },
  {
   "cell_type": "code",
   "execution_count": 14,
   "metadata": {},
   "outputs": [
    {
     "name": "stdout",
     "output_type": "stream",
     "text": [
      "Not bad!\n"
     ]
    }
   ],
   "source": [
    "score=78\n",
    "if score>=90:\n",
    "   print('Excellent!')\n",
    "elif score >=80:\n",
    "   print('Good!')\n",
    "else:\n",
    "   print('Not bad!')"
   ]
  },
  {
   "cell_type": "code",
   "execution_count": 16,
   "metadata": {},
   "outputs": [
    {
     "name": "stdout",
     "output_type": "stream",
     "text": [
      "可被2和3整除\n"
     ]
    }
   ],
   "source": [
    "a=177\n",
    "if(a % 2)==0 and (a % 3 ==0):\n",
    "  print('可被2和3整除')\n",
    "if(a % 2)==0 or (a % 3 ==0):\n",
    "  print('可被2和3整除')\n",
    "else:\n",
    "  print('不能被2和3整除')  "
   ]
  },
  {
   "cell_type": "code",
   "execution_count": 17,
   "metadata": {},
   "outputs": [
    {
     "name": "stdout",
     "output_type": "stream",
     "text": [
      "不能被2和3整除\n"
     ]
    }
   ],
   "source": [
    "a=179\n",
    "if(a % 2)==0 and (a % 3 ==0):\n",
    "  print('可被2和3整除')\n",
    "if(a % 2)==0 or (a % 3 ==0):\n",
    "  print('可被2和3整除')\n",
    "else:\n",
    "  print('不能被2和3整除')  "
   ]
  },
  {
   "cell_type": "code",
   "execution_count": 18,
   "metadata": {},
   "outputs": [
    {
     "name": "stdout",
     "output_type": "stream",
     "text": [
      "True\n"
     ]
    }
   ],
   "source": [
    "print(8+52*3>2*(7-4)+10/2)"
   ]
  },
  {
   "cell_type": "code",
   "execution_count": 19,
   "metadata": {},
   "outputs": [
    {
     "name": "stdout",
     "output_type": "stream",
     "text": [
      "Enter a number:9\n",
      "9 is multiple of 3\n"
     ]
    }
   ],
   "source": [
    "a=eval(input('Enter a number:'))\n",
    "if a % 3 == 0:\n",
    "    print('%d is multiple of 3'%(a)) \n",
    "elif a % 5== 0:\n",
    "    print('%d is multiple of 5'%(a))\n",
    "else:\n",
    "    print('%d is multiple of 3 or 5'%(a))"
   ]
  },
  {
   "cell_type": "code",
   "execution_count": 21,
   "metadata": {},
   "outputs": [
    {
     "name": "stdout",
     "output_type": "stream",
     "text": [
      "Enter a number:30\n",
      "30 is multiple of 3\n"
     ]
    }
   ],
   "source": [
    "a=eval(input('Enter a number:'))\n",
    "if a % 3 == 0:\n",
    "    print('%d is multiple of 3'%(a)) \n",
    "elif a % 5== 0:\n",
    "    print('%d is multiple of 5'%(a))\n",
    "else:\n",
    "    print('%d is multiple of 3 or 5'%(a))"
   ]
  },
  {
   "cell_type": "code",
   "execution_count": 22,
   "metadata": {},
   "outputs": [
    {
     "name": "stdout",
     "output_type": "stream",
     "text": [
      "Enter a number:9\n",
      "9 is multiple of 3\n"
     ]
    }
   ],
   "source": [
    "a=eval(input('Enter a number:'))\n",
    "if a % 3 == 0:\n",
    "    print('%d is multiple of 3'%(a)) \n",
    "if a % 5== 0:\n",
    "    print('%d is multiple of 5'%(a))\n",
    "if a % 3 != 0 and a % 5 !=0:\n",
    "    print('%d is multiple of 3 or 5'%(a))"
   ]
  },
  {
   "cell_type": "code",
   "execution_count": 23,
   "metadata": {},
   "outputs": [
    {
     "name": "stdout",
     "output_type": "stream",
     "text": [
      "Enter a number:30\n",
      "30 is multiple of 3\n",
      "30 is multiple of 5\n"
     ]
    }
   ],
   "source": [
    "a=eval(input('Enter a number:'))\n",
    "if a % 3 == 0:\n",
    "    print('%d is multiple of 3'%(a)) \n",
    "if a % 5== 0:\n",
    "    print('%d is multiple of 5'%(a))\n",
    "if a % 3 != 0 and a % 5 !=0:\n",
    "    print('%d is multiple of 3 or 5'%(a))"
   ]
  },
  {
   "cell_type": "code",
   "execution_count": null,
   "metadata": {},
   "outputs": [],
   "source": []
  }
 ],
 "metadata": {
  "kernelspec": {
   "display_name": "Python 3",
   "language": "python",
   "name": "python3"
  },
  "language_info": {
   "codemirror_mode": {
    "name": "ipython",
    "version": 3
   },
   "file_extension": ".py",
   "mimetype": "text/x-python",
   "name": "python",
   "nbconvert_exporter": "python",
   "pygments_lexer": "ipython3",
   "version": "3.8.3"
  }
 },
 "nbformat": 4,
 "nbformat_minor": 4
}
