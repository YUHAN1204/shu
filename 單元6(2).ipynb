{
 "cells": [
  {
   "cell_type": "code",
   "execution_count": 2,
   "metadata": {},
   "outputs": [
    {
     "name": "stdout",
     "output_type": "stream",
     "text": [
      "1045\n"
     ]
    }
   ],
   "source": [
    "fiveMulti=0\n",
    "k=10\n",
    "while k<=100:\n",
    " fiveMulti+=k\n",
    " k+=5\n",
    "print(fiveMulti)    "
   ]
  },
  {
   "cell_type": "code",
   "execution_count": 3,
   "metadata": {},
   "outputs": [
    {
     "name": "stdout",
     "output_type": "stream",
     "text": [
      "1045\n"
     ]
    }
   ],
   "source": [
    "fiveMulti=0\n",
    "k=10\n",
    "while k<=100:\n",
    " fiveMulti+=k\n",
    " k+=5\n",
    "print(fiveMulti)    "
   ]
  },
  {
   "cell_type": "code",
   "execution_count": 4,
   "metadata": {},
   "outputs": [
    {
     "name": "stdout",
     "output_type": "stream",
     "text": [
      "1+2+3+...+101=5150\n"
     ]
    }
   ],
   "source": [
    "total=0\n",
    "num=1\n",
    "while True:\n",
    " num+=1\n",
    " total+=num\n",
    " if total >=5050:\n",
    "    break\n",
    "print('1+2+3+...+%d=%d'%(num,total))"
   ]
  },
  {
   "cell_type": "code",
   "execution_count": 5,
   "metadata": {},
   "outputs": [
    {
     "name": "stdout",
     "output_type": "stream",
     "text": [
      "1+3+5..+99= 2500\n"
     ]
    }
   ],
   "source": [
    "total=0\n",
    "num=1\n",
    "while num <=100:\n",
    " if num %2==0:\n",
    "    num+=1\n",
    "    continue\n",
    " total+=num\n",
    " num+=1\n",
    "print('1+3+5..+99=',total)"
   ]
  },
  {
   "cell_type": "code",
   "execution_count": 6,
   "metadata": {},
   "outputs": [
    {
     "name": "stdout",
     "output_type": "stream",
     "text": [
      "2+4+6+..+100= 2450\n"
     ]
    }
   ],
   "source": [
    "total=0\n",
    "for i in range(2,100):\n",
    "  if i % 2 ==0:\n",
    "     total +=i\n",
    "  else:\n",
    "     continue\n",
    "print('2+4+6+..+100=',total)"
   ]
  },
  {
   "cell_type": "code",
   "execution_count": 7,
   "metadata": {},
   "outputs": [
    {
     "name": "stdout",
     "output_type": "stream",
     "text": [
      "The total is 1683\n"
     ]
    }
   ],
   "source": [
    "total=0 \n",
    "number=1\n",
    "while number<=100:\n",
    " number+=1\n",
    " if number%3!=0:\n",
    "    continue\n",
    " total+=number\n",
    "print('The total is',total)"
   ]
  },
  {
   "cell_type": "code",
   "execution_count": 8,
   "metadata": {},
   "outputs": [
    {
     "name": "stdout",
     "output_type": "stream",
     "text": [
      "1\n",
      "2\n",
      "3\n",
      "4\n",
      "5\n",
      "6\n",
      "7\n",
      "8\n",
      "9\n"
     ]
    }
   ],
   "source": [
    "for k in range(1,10,1):\n",
    "  print(k)  "
   ]
  },
  {
   "cell_type": "code",
   "execution_count": 9,
   "metadata": {},
   "outputs": [
    {
     "name": "stdout",
     "output_type": "stream",
     "text": [
      "#1: 8 不是3的倍數\n",
      "#2: 7 不是3的倍數\n",
      "#3: 43 不是3的倍數\n",
      "#4: 33 是3的倍數\n",
      "#5: 20 不是3的倍數\n",
      "#6: 1 不是3的倍數\n",
      "#7: 10 不是3的倍數\n",
      "#8: 1 不是3的倍數\n",
      "#9: 34 不是3的倍數\n",
      "total = 33\n"
     ]
    }
   ],
   "source": [
    "import random\n",
    "total=0\n",
    "for i in range(1,10):\n",
    "  randNum=random.randint(1,46)   \n",
    "  if randNum % 3==0:\n",
    "     print('#%d: %d 是3的倍數'%(i, randNum))\n",
    "     total += randNum\n",
    "  else:  \n",
    "     print('#%d: %d 不是3的倍數'%(i, randNum))\n",
    "     continue\n",
    "print('total = %d'%(total)) "
   ]
  },
  {
   "cell_type": "code",
   "execution_count": 10,
   "metadata": {},
   "outputs": [
    {
     "name": "stdout",
     "output_type": "stream",
     "text": [
      "#1: 3 是3的倍數\n",
      "#2: 33 是3的倍數\n",
      "#3: 17 不是3的倍數\n",
      "total = 36\n"
     ]
    }
   ],
   "source": [
    "import random\n",
    "total=0\n",
    "for i in range(1,10):\n",
    "  randNum=random.randint(1,46)   \n",
    "  if randNum % 3==0:\n",
    "     print('#%d: %d 是3的倍數'%(i, randNum))\n",
    "     total += randNum\n",
    "  else:  \n",
    "     print('#%d: %d 不是3的倍數'%(i, randNum))\n",
    "     break\n",
    "print('total = %d'%(total)) "
   ]
  },
  {
   "cell_type": "code",
   "execution_count": 11,
   "metadata": {},
   "outputs": [
    {
     "name": "stdout",
     "output_type": "stream",
     "text": [
      "5150\n"
     ]
    }
   ],
   "source": [
    "total=0\n",
    "i =1\n",
    "while i <=100:\n",
    "    i +=1\n",
    "    total +=i\n",
    "print('%d'%(total))"
   ]
  },
  {
   "cell_type": "code",
   "execution_count": 12,
   "metadata": {},
   "outputs": [
    {
     "name": "stdout",
     "output_type": "stream",
     "text": [
      "5050\n"
     ]
    }
   ],
   "source": [
    "total=0\n",
    "i =1\n",
    "while i <=100:\n",
    "    total +=i\n",
    "    i +=1\n",
    "print('%d'%(total))"
   ]
  },
  {
   "cell_type": "code",
   "execution_count": 13,
   "metadata": {},
   "outputs": [
    {
     "name": "stdout",
     "output_type": "stream",
     "text": [
      "4950\n"
     ]
    }
   ],
   "source": [
    "total=0\n",
    "i =1\n",
    "while i <100:\n",
    "    total +=i\n",
    "    i +=1\n",
    "print('%d'%(total))"
   ]
  },
  {
   "cell_type": "code",
   "execution_count": null,
   "metadata": {},
   "outputs": [],
   "source": [
    "total=0\n",
    "i =1\n",
    "while i<100:\n",
    "    total += i\n",
    "i += 1\n",
    "print('%d'%(total))"
   ]
  },
  {
   "cell_type": "code",
   "execution_count": null,
   "metadata": {},
   "outputs": [],
   "source": [
    "total=1\n",
    "i =1\n",
    "while i<=100:\n",
    "    total += i\n",
    "    i += 1\n",
    "print('%d'%(total))"
   ]
  },
  {
   "cell_type": "code",
   "execution_count": null,
   "metadata": {},
   "outputs": [],
   "source": [
    "total=0\n",
    "for i in range(5,51,5):\n",
    "    total +=i\n",
    "print('%d'%(total))"
   ]
  },
  {
   "cell_type": "code",
   "execution_count": null,
   "metadata": {},
   "outputs": [],
   "source": [
    "total=0\n",
    "for i in range(100,1,-1):\n",
    "    total += i\n",
    "print('%d'%(total))"
   ]
  },
  {
   "cell_type": "code",
   "execution_count": null,
   "metadata": {},
   "outputs": [],
   "source": [
    "total=0\n",
    "for i in range(1,-11,-1):\n",
    "    total += i\n",
    "print('%d'%(total))"
   ]
  },
  {
   "cell_type": "code",
   "execution_count": null,
   "metadata": {},
   "outputs": [],
   "source": []
  }
 ],
 "metadata": {
  "kernelspec": {
   "display_name": "Python 3",
   "language": "python",
   "name": "python3"
  },
  "language_info": {
   "codemirror_mode": {
    "name": "ipython",
    "version": 3
   },
   "file_extension": ".py",
   "mimetype": "text/x-python",
   "name": "python",
   "nbconvert_exporter": "python",
   "pygments_lexer": "ipython3",
   "version": "3.8.3"
  }
 },
 "nbformat": 4,
 "nbformat_minor": 4
}
