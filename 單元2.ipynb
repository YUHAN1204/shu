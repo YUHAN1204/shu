{
 "cells": [
  {
   "cell_type": "code",
   "execution_count": 1,
   "metadata": {},
   "outputs": [
    {
     "name": "stdout",
     "output_type": "stream",
     "text": [
      "Hello,\n",
      "world\n"
     ]
    }
   ],
   "source": [
    "print('Hello,')\n",
    "print('world')"
   ]
  },
  {
   "cell_type": "code",
   "execution_count": 2,
   "metadata": {},
   "outputs": [
    {
     "name": "stdout",
     "output_type": "stream",
     "text": [
      "Hello,world\n"
     ]
    }
   ],
   "source": [
    "print('Hello,',end='')\n",
    "print('world')"
   ]
  },
  {
   "cell_type": "code",
   "execution_count": 5,
   "metadata": {},
   "outputs": [
    {
     "name": "stdout",
     "output_type": "stream",
     "text": [
      "Hello,***world\n"
     ]
    }
   ],
   "source": [
    "print('Hello,',end='***')\n",
    "print('world')"
   ]
  },
  {
   "cell_type": "code",
   "execution_count": 7,
   "metadata": {},
   "outputs": [
    {
     "name": "stdout",
     "output_type": "stream",
     "text": [
      "***Hello,world***\n",
      "Hello,Python\n",
      "excellent!!!\n"
     ]
    }
   ],
   "source": [
    "print('***Hello,world',end='***')\n",
    "print('')\n",
    "print('Hello,Python')\n",
    "print('excellent!!!')"
   ]
  },
  {
   "cell_type": "code",
   "execution_count": 8,
   "metadata": {},
   "outputs": [
    {
     "name": "stdout",
     "output_type": "stream",
     "text": [
      "***Hello,world***\n",
      "Hello,Python\n",
      "excellent!!!\n"
     ]
    }
   ],
   "source": [
    "print('***Hello,world***')\n",
    "print('Hello,Python')\n",
    "print('excellent!!!')"
   ]
  },
  {
   "cell_type": "code",
   "execution_count": 9,
   "metadata": {},
   "outputs": [
    {
     "name": "stdout",
     "output_type": "stream",
     "text": [
      "     100\n"
     ]
    },
    {
     "data": {
      "text/plain": [
       "100"
      ]
     },
     "execution_count": 9,
     "metadata": {},
     "output_type": "execute_result"
    }
   ],
   "source": [
    "print(format(100,'8d'))\n",
    "100"
   ]
  },
  {
   "cell_type": "code",
   "execution_count": 10,
   "metadata": {},
   "outputs": [
    {
     "name": "stdout",
     "output_type": "stream",
     "text": [
      "12345 12 1234567\n",
      "12 123 1234567\n",
      "123 1234567 12345\n"
     ]
    }
   ],
   "source": [
    "print(12345,12,1234567)\n",
    "print(12,123,1234567)\n",
    "print(123,1234567,12345)"
   ]
  },
  {
   "cell_type": "code",
   "execution_count": 11,
   "metadata": {},
   "outputs": [
    {
     "name": "stdout",
     "output_type": "stream",
     "text": [
      "     12345\n",
      "        12\n",
      "   1234567\n",
      "        12\n",
      "       123\n",
      "   1234567\n",
      "       123\n",
      "   1234567\n",
      "       123\n"
     ]
    }
   ],
   "source": [
    "print(format(12345,'10d'))\n",
    "print(format(12,'10d'))\n",
    "print(format(1234567,'10d'))\n",
    "\n",
    "\n",
    "print(format(12,'10d'))\n",
    "print(format(123,'10d'))\n",
    "print(format(1234567,'10d'))\n",
    "\n",
    "\n",
    "print(format(123,'10d'))\n",
    "print(format(1234567,'10d'))\n",
    "print(format(123,'10d'))"
   ]
  },
  {
   "cell_type": "code",
   "execution_count": 12,
   "metadata": {},
   "outputs": [
    {
     "name": "stdout",
     "output_type": "stream",
     "text": [
      "     12345        12     12345\n",
      "        12       123   1234567\n",
      "       123   1234567     12345\n"
     ]
    }
   ],
   "source": [
    "print(format(12345,'10d'),end='')\n",
    "print(format(12,'10d'),end='')\n",
    "print(format(12345,'10d'))\n",
    "\n",
    "\n",
    "print(format(12,'10d'),end='')\n",
    "print(format(123,'10d'),end='')\n",
    "print(format(1234567,'10d'))\n",
    "\n",
    "\n",
    "print(format(123,'10d'),end='')\n",
    "print(format(1234567,'10d'),end='')\n",
    "print(format(12345,'10d'))"
   ]
  },
  {
   "cell_type": "code",
   "execution_count": 13,
   "metadata": {},
   "outputs": [
    {
     "name": "stdout",
     "output_type": "stream",
     "text": [
      "|  123.46|\n",
      "|    1.23|\n",
      "| 1234.56|\n",
      "|   12.35|\n",
      "|12345.60|\n"
     ]
    }
   ],
   "source": [
    "print('|%8.2f|'%(123.456))\n",
    "print('|%8.2f|'%(1.23456))\n",
    "print('|%8.2f|'%(1234.56))\n",
    "print('|%8.2f|'%(12.3456))\n",
    "print('|%8.2f|'%(12345.6))"
   ]
  },
  {
   "cell_type": "code",
   "execution_count": 14,
   "metadata": {},
   "outputs": [
    {
     "name": "stdout",
     "output_type": "stream",
     "text": [
      "|123.46|\n",
      "|1.23|\n",
      "|1234.56|\n",
      "|12.35|\n",
      "|12345.60|\n"
     ]
    }
   ],
   "source": [
    "print('|%.2f|'%(123.456))\n",
    "print('|%.2f|'%(1.23456))\n",
    "print('|%.2f|'%(1234.56))\n",
    "print('|%.2f|'%(12.3456))\n",
    "print('|%.2f|'%(12345.6))"
   ]
  },
  {
   "cell_type": "code",
   "execution_count": 15,
   "metadata": {},
   "outputs": [
    {
     "name": "stdout",
     "output_type": "stream",
     "text": [
      "|          Learning Python now!|\n",
      "|Learning Python now!          |\n",
      "|Learning Python now!|\n"
     ]
    }
   ],
   "source": [
    "print('|%30s|'%('Learning Python now!'))\n",
    "print('|%-30s|'%('Learning Python now!'))\n",
    "print('|%15s|'%('Learning Python now!'))"
   ]
  },
  {
   "cell_type": "code",
   "execution_count": 16,
   "metadata": {},
   "outputs": [
    {
     "name": "stdout",
     "output_type": "stream",
     "text": [
      "     12345        12   1234567\n",
      "        12       123   1234567\n",
      "       123   1234567       123\n"
     ]
    }
   ],
   "source": [
    "print('%10d%10d%10d'%(12345,12,1234567))\n",
    "print('%10d%10d%10d'%(12,123,1234567))\n",
    "print('%10d%10d%10d'%(123,1234567,123))"
   ]
  },
  {
   "cell_type": "code",
   "execution_count": 17,
   "metadata": {},
   "outputs": [
    {
     "name": "stdout",
     "output_type": "stream",
     "text": [
      "123\n",
      "123,12345\n",
      "  123,  12345\n",
      "x=  123,q=  12345\n",
      "x=  123,y=  12345\n"
     ]
    }
   ],
   "source": [
    "print('{0}'.format(123))\n",
    "print('{0},{1}'.format(123,12345))\n",
    "print('{0:5d},{1:7d}'.format(123,12345))\n",
    "print('x={0:5d},q={1:7d}'.format(123,12345))\n",
    "print('x={p:5d},y={q:7d}'.format(p=123,q=12345))"
   ]
  },
  {
   "cell_type": "code",
   "execution_count": 18,
   "metadata": {},
   "outputs": [
    {
     "name": "stdout",
     "output_type": "stream",
     "text": [
      "|     12345        12   1234567|\n",
      "|        12   1234567       123|\n",
      "|   1234567       123     12345|\n"
     ]
    }
   ],
   "source": [
    "print('|%10d %9d %9d|'%(12345,12,1234567))\n",
    "print('|%10d %9d %9d|'%(12,1234567,123))\n",
    "print('|%10d %9d %9d|'%(1234567,123,12345))"
   ]
  },
  {
   "cell_type": "code",
   "execution_count": 19,
   "metadata": {},
   "outputs": [
    {
     "name": "stdout",
     "output_type": "stream",
     "text": [
      "Department  \n",
      "of          \n",
      "Computer    \n",
      "Science     \n",
      "\n"
     ]
    }
   ],
   "source": [
    "print(format('Department','12s'))\n",
    "print(format('of','12s'))\n",
    "print(format('Computer','12s'))\n",
    "print(format('Science','12s'))\n",
    "print()"
   ]
  },
  {
   "cell_type": "code",
   "execution_count": 20,
   "metadata": {},
   "outputs": [
    {
     "name": "stdout",
     "output_type": "stream",
     "text": [
      "  Department\n",
      "          of\n",
      "    Computer\n",
      "     Science\n"
     ]
    }
   ],
   "source": [
    "print(format('Department','>12s'))\n",
    "print(format('of','>12s'))\n",
    "print(format('Computer','>12s'))\n",
    "print(format('Science','>12s'))"
   ]
  },
  {
   "cell_type": "code",
   "execution_count": 21,
   "metadata": {},
   "outputs": [
    {
     "name": "stdout",
     "output_type": "stream",
     "text": [
      "    123.46\n",
      "  12345.68\n"
     ]
    }
   ],
   "source": [
    "print(format(123.456,'10.2f'))\n",
    "print(format(12345.678,'10.2f'))"
   ]
  },
  {
   "cell_type": "code",
   "execution_count": 22,
   "metadata": {},
   "outputs": [
    {
     "name": "stdout",
     "output_type": "stream",
     "text": [
      "i=100\n",
      "i=100,j=200\n"
     ]
    }
   ],
   "source": [
    "print('i=%d'%(100))\n",
    "print('i=%d,j=%d'%(100,200))"
   ]
  },
  {
   "cell_type": "code",
   "execution_count": 30,
   "metadata": {},
   "outputs": [
    {
     "name": "stdout",
     "output_type": "stream",
     "text": [
      "Price:$  356.09\n",
      "    123.46     345.79\n",
      "123.46       100\n",
      "radius=5,area=  15.71\n",
      "Raidus:  5,Area:     15.71\n"
     ]
    }
   ],
   "source": [
    "print('Price:$%8.2f'%(356.08977))\n",
    "print('%10.2f %10.2f'%(123.456,345.789))\n",
    "print('%-10.2f %5d'%(123.456,100))\n",
    "print('radius=%d,area=%7.2f'%(5,5*3.14159))\n",
    "print('Raidus:{a:3d},Area:{b:10.2f}'.format(a=5,b=5*3.14159))"
   ]
  },
  {
   "cell_type": "code",
   "execution_count": 32,
   "metadata": {},
   "outputs": [
    {
     "name": "stdout",
     "output_type": "stream",
     "text": [
      "3.25 degree Celsius in Fahrenheit    is37.85\n",
      "94.50 degree Fahrenheit in Celsius     is34.72\n"
     ]
    }
   ],
   "source": [
    "print('%.2f degree Celsius in Fahrenheit\\\n",
    "    is%.2f'%(3.25,3.25*1.8+32))\n",
    "print('%.2f degree Fahrenheit in Celsius \\\n",
    "    is%.2f'%(94.5,(94.5-32)/1.8))"
   ]
  },
  {
   "cell_type": "code",
   "execution_count": 33,
   "metadata": {},
   "outputs": [
    {
     "name": "stdout",
     "output_type": "stream",
     "text": [
      "Month          Amount    \n",
      "1              43400.20  \n",
      "2              45430.28  \n",
      "3              48030.48  \n",
      "4              51112.96  \n",
      "5              52857.20  \n"
     ]
    }
   ],
   "source": [
    "print('%-15s%-10s'%('Month','Amount'))\n",
    "print('%-15d%-10.2f'%(1,43400.2))\n",
    "print('%-15d%-10.2f'%(2,45430.28))\n",
    "print('%-15d%-10.2f'%(3,48030.48))\n",
    "print('%-15d%-10.2f'%(4,51112.96))\n",
    "print('%-15d%-10.2f'%(5,52857.2))"
   ]
  },
  {
   "cell_type": "code",
   "execution_count": 37,
   "metadata": {},
   "outputs": [
    {
     "name": "stdout",
     "output_type": "stream",
     "text": [
      "|     12345        12   1234567|\n",
      "Raidus:  5,Area:     15.71\n",
      "    123.46\n",
      "1               43400.20  \n",
      "x=  123,q=  12345\n"
     ]
    }
   ],
   "source": [
    "print('|%10d %9d %9d|'%(12345,12,1234567))\n",
    "print('Raidus:{a:3d},Area:{b:10.2f}'.format(a=5,b=5*3.14159))\n",
    "print(format(123.456,'10.2f'))\n",
    "print('%-15d %-10.2f'%(1,43400.2))\n",
    "print('x={0:5d},q={1:7d}'.format(123,12345))"
   ]
  },
  {
   "cell_type": "code",
   "execution_count": 55,
   "metadata": {},
   "outputs": [
    {
     "name": "stdout",
     "output_type": "stream",
     "text": [
      "Using format\n",
      "123      45\n",
      "123456   78901\n",
      "Using .format\n",
      "123      45\n",
      "123456   78901\n",
      "Using %\n",
      "123      45\n",
      "123456   78901\n"
     ]
    }
   ],
   "source": [
    "print('Using format')\n",
    "print(format(123,'3d'),format(45,'7d'))\n",
    "print(format(123456,'6d'),format(78901,'7d'))\n",
    "\n",
    "\n",
    "print('Using .format')\n",
    "print(format(123,'3d'),format(45,'7d'))\n",
    "print(format(123456,'6d'),format(78901,'7d'))\n",
    "\n",
    "\n",
    "print('Using %')\n",
    "print(format(123,'3d'),format(45,'7d'))\n",
    "print(format(123456,'6d'),format(78901,'7d'))"
   ]
  },
  {
   "cell_type": "code",
   "execution_count": 57,
   "metadata": {},
   "outputs": [
    {
     "name": "stdout",
     "output_type": "stream",
     "text": [
      "Memberkaren  ,discount0.35\n",
      "MemberSammy  ,discount0.40\n",
      "MemberJoJo   ,discount0.42\n"
     ]
    }
   ],
   "source": [
    "print('Member{0:7s},discount{1:3.2f}'.format('karen',0.35))\n",
    "print('Member{0:7s},discount{1:3.2f}'.format('Sammy',0.4))\n",
    "print('Member{0:7s},discount{1:3.2f}'.format('JoJo',0.42))"
   ]
  },
  {
   "cell_type": "code",
   "execution_count": 58,
   "metadata": {},
   "outputs": [
    {
     "name": "stdout",
     "output_type": "stream",
     "text": [
      "                tallshort               \n",
      "              strongweak                \n",
      "               thickthin                \n"
     ]
    }
   ],
   "source": [
    "print('%20s%-20s'%('tall','short'))\n",
    "print('%20s%-20s'%('strong','weak'))\n",
    "print('%20s%-20s'%('thick','thin'))"
   ]
  },
  {
   "cell_type": "code",
   "execution_count": 59,
   "metadata": {},
   "outputs": [
    {
     "name": "stdout",
     "output_type": "stream",
     "text": [
      "   Apple's Products:iphone              \n",
      "                    iMac                \n",
      "                    Apple Watch         \n",
      "                    ...                 \n"
     ]
    }
   ],
   "source": [
    "print('%20s%-20s'%('Apple\\'s Products:','iphone'))\n",
    "print('%20s%-20s'%('','iMac'))\n",
    "print('%20s%-20s'%('','Apple Watch'))\n",
    "print('%20s%-20s'%('','...'))"
   ]
  },
  {
   "cell_type": "code",
   "execution_count": 60,
   "metadata": {},
   "outputs": [
    {
     "name": "stdout",
     "output_type": "stream",
     "text": [
      "City           Celsius\n",
      "Taipei            33.2\n",
      "Yilan            32.93\n",
      "MiaoLi           32.29\n",
      "Taichung         32.48\n",
      "HuaLian          33.87\n"
     ]
    }
   ],
   "source": [
    "print('%-15s%7s'%('City','Celsius'))\n",
    "print('%-15s%7s'%('Taipei',33.2))\n",
    "print('%-15s%7s'%('Yilan',32.93))\n",
    "print('%-15s%7s'%('MiaoLi',32.29))\n",
    "print('%-15s%7s'%('Taichung',32.48))\n",
    "print('%-15s%7s'%('HuaLian',33.87))                  "
   ]
  },
  {
   "cell_type": "code",
   "execution_count": 61,
   "metadata": {},
   "outputs": [
    {
     "name": "stdout",
     "output_type": "stream",
     "text": [
      "|    22     44     66     88|\n",
      "|33     55     77     99    |\n",
      "|   222    444    666    888|\n",
      "|333    555    777    999   |\n"
     ]
    }
   ],
   "source": [
    "print('|%6d %6d %6d %6d|'%(22,44,66,88))\n",
    "print('|%-6d %-6d %-6d %-6d|'%(33,55,77,99))\n",
    "print('|%6d %6d %6d %6d|'%(222,444,666,888))\n",
    "print('|%-6d %-6d %-6d %-6d|'%(333,555,777,999))"
   ]
  },
  {
   "cell_type": "code",
   "execution_count": 63,
   "metadata": {},
   "outputs": [
    {
     "name": "stdout",
     "output_type": "stream",
     "text": [
      "---------\n",
      "Learning Python now***\n",
      "Python is fun$$$\n",
      "---------\n"
     ]
    }
   ],
   "source": [
    "print('---------')\n",
    "print('Learning Python now***')\n",
    "print('Python is fun$$$')\n",
    "print('---------')"
   ]
  },
  {
   "cell_type": "code",
   "execution_count": 66,
   "metadata": {},
   "outputs": [
    {
     "name": "stdout",
     "output_type": "stream",
     "text": [
      "|     12345        12   1234567|\n",
      "Raidus:  5,Area:     15.71\n",
      "    123.46\n",
      "1              43400.20  \n",
      "x=  123,q=  12345\n"
     ]
    }
   ],
   "source": [
    "print('|%10d %9d %9d|'%(12345,12,1234567))\n",
    "print('Raidus:{a:3d},Area:{b:10.2f}'.format(a=5,b=5*3.14159))\n",
    "print(format(123.456,'10.2f'))\n",
    "print('%-15d%-10.2f'%(1,43400.2))\n",
    "print('x={0:5d},q={1:7d}'.format(123,12345))"
   ]
  },
  {
   "cell_type": "code",
   "execution_count": 67,
   "metadata": {},
   "outputs": [
    {
     "name": "stdout",
     "output_type": "stream",
     "text": [
      "|12345|\n",
      "|12345|\n",
      "|   12345|\n"
     ]
    }
   ],
   "source": [
    "print('|%3d|'%(12345))\n",
    "print('|%5d|'%(12345))\n",
    "print('|%8d|'%(12345))"
   ]
  },
  {
   "cell_type": "code",
   "execution_count": 68,
   "metadata": {},
   "outputs": [
    {
     "name": "stdout",
     "output_type": "stream",
     "text": [
      "|123.456000|\n",
      "|123.46|\n",
      "|123.46|\n",
      "|123.46|\n"
     ]
    }
   ],
   "source": [
    "print('|%f|'%(123.456))\n",
    "print('|%5.2f|'%(123.456))\n",
    "print('|%1.2f|'%(123.456))\n",
    "print('|%.2f|'%(123.456))"
   ]
  },
  {
   "cell_type": "code",
   "execution_count": 69,
   "metadata": {},
   "outputs": [
    {
     "ename": "NameError",
     "evalue": "name 'Apple' is not defined",
     "output_type": "error",
     "traceback": [
      "\u001b[1;31m---------------------------------------------------------------------------\u001b[0m",
      "\u001b[1;31mNameError\u001b[0m                                 Traceback (most recent call last)",
      "\u001b[1;32m<ipython-input-69-55fbd68a09ce>\u001b[0m in \u001b[0;36m<module>\u001b[1;34m\u001b[0m\n\u001b[1;32m----> 1\u001b[1;33m \u001b[0mprint\u001b[0m\u001b[1;33m(\u001b[0m\u001b[1;34m'|%10s|'\u001b[0m\u001b[1;33m%\u001b[0m\u001b[1;33m(\u001b[0m\u001b[0mApple\u001b[0m\u001b[1;33m)\u001b[0m\u001b[1;33m)\u001b[0m\u001b[1;33m\u001b[0m\u001b[1;33m\u001b[0m\u001b[0m\n\u001b[0m",
      "\u001b[1;31mNameError\u001b[0m: name 'Apple' is not defined"
     ]
    }
   ],
   "source": [
    "print('|%10s|'%(Apple))"
   ]
  },
  {
   "cell_type": "code",
   "execution_count": 71,
   "metadata": {},
   "outputs": [
    {
     "name": "stdout",
     "output_type": "stream",
     "text": [
      "|12345.000000-8d|\n",
      "|123.46    |\n",
      "|Apple     |\n"
     ]
    }
   ],
   "source": [
    "print('|%f-8d|'%(12345))\n",
    "print('|%-10.2f|'%(123.456))\n",
    "print('|%-10s|'%('Apple'))"
   ]
  },
  {
   "cell_type": "code",
   "execution_count": null,
   "metadata": {},
   "outputs": [],
   "source": []
  }
 ],
 "metadata": {
  "kernelspec": {
   "display_name": "Python 3",
   "language": "python",
   "name": "python3"
  },
  "language_info": {
   "codemirror_mode": {
    "name": "ipython",
    "version": 3
   },
   "file_extension": ".py",
   "mimetype": "text/x-python",
   "name": "python",
   "nbconvert_exporter": "python",
   "pygments_lexer": "ipython3",
   "version": "3.8.3"
  }
 },
 "nbformat": 4,
 "nbformat_minor": 4
}
