{
 "cells": [
  {
   "cell_type": "code",
   "execution_count": 4,
   "metadata": {},
   "outputs": [
    {
     "name": "stdout",
     "output_type": "stream",
     "text": [
      "6.5\n",
      "5\n",
      "Area=72.6902\n"
     ]
    }
   ],
   "source": [
    "import math\n",
    "s=float(input())\n",
    "n=float(input())\n",
    "area=(n*s**2)/(4*math.tan(math.pi/n))\n",
    "print('Area={:.4f}'.format(area))       "
   ]
  },
  {
   "cell_type": "code",
   "execution_count": 2,
   "metadata": {},
   "outputs": [
    {
     "name": "stdout",
     "output_type": "stream",
     "text": [
      "2\n",
      "1\n",
      "6.5\n",
      "8\n",
      "Distance= 69.25\n"
     ]
    }
   ],
   "source": [
    "import math\n",
    "x1=eval(input())\n",
    "y1=eval(input())\n",
    "x2=eval(input())\n",
    "y2=eval(input())\n",
    "Distance=((x1-x2)**2+(y1-y2)**2)\n",
    "print('Distance=',Distance)"
   ]
  },
  {
   "cell_type": "code",
   "execution_count": 6,
   "metadata": {},
   "outputs": [
    {
     "name": "stdout",
     "output_type": "stream",
     "text": [
      "6\n",
      "8\n",
      "10\n"
     ]
    }
   ],
   "source": [
    "import math\n",
    "a=eval(input())\n",
    "b=eval(input())\n",
    "c=eval(input())\n",
    "s=(a+b+c)/2\n",
    "area=s*(s-a)*(s-b)*(s-c)**(1/2)"
   ]
  },
  {
   "cell_type": "code",
   "execution_count": null,
   "metadata": {},
   "outputs": [],
   "source": []
  },
  {
   "cell_type": "code",
   "execution_count": null,
   "metadata": {},
   "outputs": [],
   "source": [
    "import math\n",
    "s=eval(input()\n",
    "n=eval(input()\n",
    "area=(n**s)/(4*tan(pi/n))\n",
    "print('area=',area)       "
   ]
  },
  {
   "cell_type": "code",
   "execution_count": null,
   "metadata": {},
   "outputs": [],
   "source": []
  },
  {
   "cell_type": "code",
   "execution_count": null,
   "metadata": {},
   "outputs": [],
   "source": []
  },
  {
   "cell_type": "code",
   "execution_count": null,
   "metadata": {},
   "outputs": [],
   "source": []
  }
 ],
 "metadata": {
  "kernelspec": {
   "display_name": "Python 3",
   "language": "python",
   "name": "python3"
  },
  "language_info": {
   "codemirror_mode": {
    "name": "ipython",
    "version": 3
   },
   "file_extension": ".py",
   "mimetype": "text/x-python",
   "name": "python",
   "nbconvert_exporter": "python",
   "pygments_lexer": "ipython3",
   "version": "3.8.3"
  }
 },
 "nbformat": 4,
 "nbformat_minor": 4
}
