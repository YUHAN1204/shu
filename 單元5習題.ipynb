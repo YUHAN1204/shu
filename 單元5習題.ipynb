{
 "cells": [
  {
   "cell_type": "code",
   "execution_count": 5,
   "metadata": {},
   "outputs": [
    {
     "name": "stdout",
     "output_type": "stream",
     "text": [
      "請輸入購物金額:5600\n",
      "實付金額\n"
     ]
    }
   ],
   "source": [
    "buy=eval(input('請輸入購物金額:'))\n",
    "state=''\n",
    "\n",
    "\n",
    "if buy<=5000:\n",
    " state='buy*0.95'\n",
    "elif buy>=15000:\n",
    " state='buy*0.9'\n",
    "elif buy>=25000:\n",
    " state='buy*0.85'\n",
    "elif buy>=35000:\n",
    " state='buy*0.8'\n",
    "\n",
    "\n",
    "print('實付金額%s'%state)"
   ]
  },
  {
   "cell_type": "code",
   "execution_count": null,
   "metadata": {},
   "outputs": [],
   "source": [
    "month=eval(input('Enter month:'))\n",
    "if month>=1  and month<=3:\n",
    "    print(\"春天\".format(month))\n",
    "elif month>=4  and month<=6:\n",
    "    print(\"夏天\".format(month))\n",
    "elif month>=7  and month<=9:\n",
    "    print(\"秋天\".format(month)) \n",
    "else month>=10 and month<=12:\n",
    "    print(\"冬天\".format(month))"
   ]
  },
  {
   "cell_type": "code",
   "execution_count": null,
   "metadata": {},
   "outputs": [],
   "source": [
    "age=eval(input('請輸入年齡:'))\n",
    "state=''\n",
    "\n",
    "\n",
    "if age >=0 and age <=5:\n",
    " state='免費'\n",
    "elif age >=6 and age <=11:\n",
    " state='590元'\n",
    "elif age >=12 and age <=17:\n",
    " state='790元'\n",
    "elif age >=18 and age <=59:\n",
    " state='890元'\n",
    "elif age>=60:\n",
    " state='399元'\n",
    "\n",
    "\n",
    "print('您的年齡屬於%s'%state)"
   ]
  },
  {
   "cell_type": "code",
   "execution_count": 1,
   "metadata": {},
   "outputs": [
    {
     "name": "stdout",
     "output_type": "stream",
     "text": [
      "55\n",
      "55 is a multiple of 5.\n"
     ]
    }
   ],
   "source": [
    "n=eval(input())\n",
    "if(n%3==0 and n%5!=0):\n",
    " print(n,\"is a multiple of 3.\")\n",
    "elif(n%3!=0 and n%5==0):\n",
    " print(n,\"is a multiple of 5.\")\n",
    "elif(n%3==0 and n%5==0):\n",
    " print(n,\"is a multiple of 3 and5.\")\n",
    "elif(n%3!=0 and n%5!=0):\n",
    " print(n,\"is not a multiple of 3 or 5.\")"
   ]
  },
  {
   "cell_type": "code",
   "execution_count": 2,
   "metadata": {},
   "outputs": [
    {
     "name": "stdout",
     "output_type": "stream",
     "text": [
      "5\n",
      "5 is a symbol.\n"
     ]
    }
   ],
   "source": [
    "a=input(\"\")\n",
    "if a.isalpha()==True:\n",
    " print(a,\"is a alpfabet.\")\n",
    "elif a.isalpha()==True:\n",
    " print(a,\"is a number.\")\n",
    "else:\n",
    " print(a,\"is a symbol.\")    "
   ]
  },
  {
   "cell_type": "code",
   "execution_count": null,
   "metadata": {},
   "outputs": [],
   "source": []
  },
  {
   "cell_type": "code",
   "execution_count": null,
   "metadata": {},
   "outputs": [],
   "source": []
  },
  {
   "cell_type": "code",
   "execution_count": null,
   "metadata": {},
   "outputs": [],
   "source": []
  },
  {
   "cell_type": "code",
   "execution_count": null,
   "metadata": {},
   "outputs": [],
   "source": []
  },
  {
   "cell_type": "code",
   "execution_count": 3,
   "metadata": {},
   "outputs": [
    {
     "name": "stdout",
     "output_type": "stream",
     "text": [
      "5\n",
      "6\n",
      "13\n",
      "Invalid\n"
     ]
    }
   ],
   "source": [
    "x=eval(input())\n",
    "y=eval(input())\n",
    "z=eval(input())\n",
    "if x+y>z and x+z>y and y+z>x:\n",
    " print(x+y+z)\n",
    "else:\n",
    " print(\"Invalid\")"
   ]
  },
  {
   "cell_type": "code",
   "execution_count": 4,
   "metadata": {},
   "outputs": [
    {
     "name": "stdout",
     "output_type": "stream",
     "text": [
      "Is your birthday in set1?\n",
      "1 3 5 7\n",
      "9 11 13 15\n",
      "17 19 21 23\n",
      "25 27 29 31\n",
      "\n",
      "Enter 1 for Yes and 0 for No:18\n",
      "Is your birthday in set1?\n",
      "2 3 6 7\n",
      "10 11 14 15\n",
      "18 19 22 23\n",
      "26 27 30 31\n",
      "\n",
      "Enter 1 for Yes and 0 for No:0\n",
      "Is your birthday in set1?\n",
      "4 5 6 7\n",
      "12 13 14 15\n",
      "20 21 22 23\n",
      "28 29 30 31\n",
      "\n",
      "Enter 1 for Yes and 0 for No:0\n",
      "Is your birthday in set1?\n",
      "8 9 6 7\n",
      "12 13 14 15\n",
      "24 25 26 27\n",
      "28 29 30 31\n",
      "\n",
      "Enter 1 for Yes and 0 for No:1\n",
      "Is your birthday in set1?\n",
      "16 17 18 19\n",
      "20 21 22 23\n",
      "24 25 26 27\n",
      "28 29 30 31\n",
      "\n",
      "Enter 1 for Yes and 0 for No:2\n",
      "Your birthdayis 8\n"
     ]
    }
   ],
   "source": [
    "day=0\n",
    "question1=\"Is your birthday in set1?\\n\"+\\\n",
    "      \"1 3 5 7\\n\"+\\\n",
    "      \"9 11 13 15\\n\"+\\\n",
    "      \"17 19 21 23\\n\"+\\\n",
    "      \"25 27 29 31\\n\"+\\\n",
    "      \"\\nEnter 1 for Yes and 0 for No:\"\n",
    "answer=eval(input(question1))\n",
    "\n",
    "\n",
    "if answer ==1:\n",
    "   day+=1\n",
    "\n",
    "\n",
    "question2=\"Is your birthday in set1?\\n\"+\\\n",
    "      \"2 3 6 7\\n\"+\\\n",
    "      \"10 11 14 15\\n\"+\\\n",
    "      \"18 19 22 23\\n\"+\\\n",
    "      \"26 27 30 31\\n\"+\\\n",
    "      \"\\nEnter 1 for Yes and 0 for No:\"\n",
    "answer=eval(input(question2))\n",
    "\n",
    "\n",
    "if answer ==1:\n",
    "   day+=2\n",
    "\n",
    "\n",
    "question3=\"Is your birthday in set1?\\n\"+\\\n",
    "      \"4 5 6 7\\n\"+\\\n",
    "      \"12 13 14 15\\n\"+\\\n",
    "      \"20 21 22 23\\n\"+\\\n",
    "      \"28 29 30 31\\n\"+\\\n",
    "      \"\\nEnter 1 for Yes and 0 for No:\"\n",
    "answer=eval(input(question3))\n",
    "\n",
    "\n",
    "if answer ==1:\n",
    "   day+=4\n",
    "\n",
    "\n",
    "question4=\"Is your birthday in set1?\\n\"+\\\n",
    "      \"8 9 6 7\\n\"+\\\n",
    "      \"12 13 14 15\\n\"+\\\n",
    "      \"24 25 26 27\\n\"+\\\n",
    "      \"28 29 30 31\\n\"+\\\n",
    "      \"\\nEnter 1 for Yes and 0 for No:\"\n",
    "answer=eval(input(question4))\n",
    "\n",
    "\n",
    "if answer ==1:\n",
    "   day+=8\n",
    "\n",
    "\n",
    "question5=\"Is your birthday in set1?\\n\"+\\\n",
    "      \"16 17 18 19\\n\"+\\\n",
    "      \"20 21 22 23\\n\"+\\\n",
    "      \"24 25 26 27\\n\"+\\\n",
    "      \"28 29 30 31\\n\"+\\\n",
    "      \"\\nEnter 1 for Yes and 0 for No:\"\n",
    "answer=eval(input(question5))\n",
    "\n",
    "\n",
    "if answer ==1:\n",
    "   day+=16\n",
    "\n",
    "\n",
    "print(\"Your birthdayis\",day)"
   ]
  },
  {
   "cell_type": "code",
   "execution_count": null,
   "metadata": {},
   "outputs": [],
   "source": []
  }
 ],
 "metadata": {
  "kernelspec": {
   "display_name": "Python 3",
   "language": "python",
   "name": "python3"
  },
  "language_info": {
   "codemirror_mode": {
    "name": "ipython",
    "version": 3
   },
   "file_extension": ".py",
   "mimetype": "text/x-python",
   "name": "python",
   "nbconvert_exporter": "python",
   "pygments_lexer": "ipython3",
   "version": "3.8.3"
  }
 },
 "nbformat": 4,
 "nbformat_minor": 4
}
