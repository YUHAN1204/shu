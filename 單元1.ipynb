{
 "cells": [
  {
   "cell_type": "code",
   "execution_count": 1,
   "metadata": {},
   "outputs": [
    {
     "name": "stdout",
     "output_type": "stream",
     "text": [
      "Learning Python now!\n",
      "Python is fun\n"
     ]
    }
   ],
   "source": [
    "#display two messages\n",
    "print('Learning Python now!')\n",
    "print('Python is fun')"
   ]
  },
  {
   "cell_type": "code",
   "execution_count": 2,
   "metadata": {},
   "outputs": [
    {
     "name": "stdout",
     "output_type": "stream",
     "text": [
      "Learning Python now!\n",
      "Python is fun\n"
     ]
    }
   ],
   "source": [
    "#display two messages\n",
    "print('Learning Python now!');\n",
    "print('Python is fun');"
   ]
  },
  {
   "cell_type": "code",
   "execution_count": 3,
   "metadata": {},
   "outputs": [
    {
     "name": "stdout",
     "output_type": "stream",
     "text": [
      "Fahrenheit 80 is Celsius degree\n",
      "12.444444444444443\n"
     ]
    }
   ],
   "source": [
    "#Convert Fahrenheit to Celsius\n",
    "print('Fahrenheit 80 is Celsius degree')\n",
    "print(5/9*80-32)"
   ]
  },
  {
   "cell_type": "code",
   "execution_count": 4,
   "metadata": {},
   "outputs": [
    {
     "name": "stdout",
     "output_type": "stream",
     "text": [
      "Fahrenheit 80 is Celsius degree\n",
      "26.666666666666668\n"
     ]
    }
   ],
   "source": [
    "#Convert Fahrenheit to Celsius\n",
    "print('Fahrenheit 80 is Celsius degree')\n",
    "print(5/9*(80-32))"
   ]
  },
  {
   "cell_type": "code",
   "execution_count": 5,
   "metadata": {},
   "outputs": [
    {
     "name": "stdout",
     "output_type": "stream",
     "text": [
      "mile 96 is Kilometer\n",
      "153.60000000000002\n"
     ]
    }
   ],
   "source": [
    "#Convert miles to Kilometers\n",
    "print('mile 96 is Kilometer')\n",
    "print(96*1.6)"
   ]
  },
  {
   "cell_type": "code",
   "execution_count": 6,
   "metadata": {},
   "outputs": [
    {
     "name": "stdout",
     "output_type": "stream",
     "text": [
      "Fahrenheit 100 is Celsius degree\n",
      "37.77777777777778\n"
     ]
    }
   ],
   "source": [
    "#Convert Fahrenheit to Celsius\n",
    "print('Fahrenheit 100 is Celsius degree')\n",
    "print(5/9*(100-32))"
   ]
  },
  {
   "cell_type": "code",
   "execution_count": 7,
   "metadata": {},
   "outputs": [
    {
     "name": "stdout",
     "output_type": "stream",
     "text": [
      "feet 90 is meter\n",
      "2745.0\n"
     ]
    }
   ],
   "source": [
    "#Convert feet to meters\n",
    "print('feet 90 is meter')\n",
    "print(90*30.5)"
   ]
  },
  {
   "cell_type": "code",
   "execution_count": 8,
   "metadata": {},
   "outputs": [
    {
     "name": "stdout",
     "output_type": "stream",
     "text": [
      "Hello,Python\n",
      "Hello,Python\n",
      "Hello,Python!\n"
     ]
    }
   ],
   "source": [
    "print('Hello,Python')\n",
    "print('Hello,Python')\n",
    "print('Hello,Python!')"
   ]
  },
  {
   "cell_type": "code",
   "execution_count": 9,
   "metadata": {},
   "outputs": [
    {
     "name": "stdout",
     "output_type": "stream",
     "text": [
      "Hello,Python\n",
      "Hello,Python\n",
      "Hello,Python\n"
     ]
    }
   ],
   "source": [
    "print('Hello,Python');\n",
    "print('Hello,Python');\n",
    "print('Hello,Python');"
   ]
  },
  {
   "cell_type": "code",
   "execution_count": 10,
   "metadata": {},
   "outputs": [
    {
     "name": "stdout",
     "output_type": "stream",
     "text": [
      "Fahrenheit 212 is Celsius degree\n",
      "100.0\n"
     ]
    }
   ],
   "source": [
    "#Convert Fahrenheit to Celsius\n",
    "print('Fahrenheit 212 is Celsius degree')\n",
    "print(5/9*(212-32))"
   ]
  },
  {
   "cell_type": "code",
   "execution_count": 11,
   "metadata": {},
   "outputs": [
    {
     "name": "stdout",
     "output_type": "stream",
     "text": [
      "Learning Python now!\n",
      "Python is fun\n",
      "Python is a good programming language\n"
     ]
    }
   ],
   "source": [
    "print('Learning Python now!')\n",
    "print('Python is fun')\n",
    "print('Python is a good programming language')"
   ]
  },
  {
   "cell_type": "code",
   "execution_count": 12,
   "metadata": {},
   "outputs": [
    {
     "name": "stdout",
     "output_type": "stream",
     "text": [
      "我的第一個Python程式\n",
      "Python is fun\n",
      "Learning Python now!\n"
     ]
    }
   ],
   "source": [
    "print('我的第一個Python程式')\n",
    "print('Python is fun')\n",
    "print('Learning Python now!')"
   ]
  },
  {
   "cell_type": "code",
   "execution_count": 13,
   "metadata": {},
   "outputs": [
    {
     "name": "stdout",
     "output_type": "stream",
     "text": [
      "Seqare meter 100 is Ping\n",
      "30.25\n"
     ]
    }
   ],
   "source": [
    "#Convert Seqare meter to Ping\n",
    "print('Seqare meter 100 is Ping')\n",
    "print(100*0.3025)"
   ]
  },
  {
   "cell_type": "code",
   "execution_count": 14,
   "metadata": {},
   "outputs": [
    {
     "name": "stdout",
     "output_type": "stream",
     "text": [
      "inch 50 is meter\n",
      "127.0\n"
     ]
    }
   ],
   "source": [
    "#Convert inches to meters\n",
    "print('inch 50 is meter')\n",
    "print(50*2.54)"
   ]
  },
  {
   "cell_type": "code",
   "execution_count": 15,
   "metadata": {},
   "outputs": [
    {
     "name": "stdout",
     "output_type": "stream",
     "text": [
      "Celsius 100 is Fahrenheit degree\n",
      "37.77777777777778\n"
     ]
    }
   ],
   "source": [
    "#Convert Celsius to Fahrenheit\n",
    "print('Celsius 100 is Fahrenheit degree')\n",
    "print(5/9*(100-32))"
   ]
  },
  {
   "cell_type": "code",
   "execution_count": 16,
   "metadata": {},
   "outputs": [
    {
     "name": "stdout",
     "output_type": "stream",
     "text": [
      "Celsius 0 is Fahrenheit degree\n",
      "-17.77777777777778\n"
     ]
    }
   ],
   "source": [
    "#Convert Celsius to Fahrenheit\n",
    "print('Celsius 0 is Fahrenheit degree')\n",
    "print(5/9*(0-32))"
   ]
  },
  {
   "cell_type": "code",
   "execution_count": null,
   "metadata": {},
   "outputs": [],
   "source": []
  }
 ],
 "metadata": {
  "kernelspec": {
   "display_name": "Python 3",
   "language": "python",
   "name": "python3"
  },
  "language_info": {
   "codemirror_mode": {
    "name": "ipython",
    "version": 3
   },
   "file_extension": ".py",
   "mimetype": "text/x-python",
   "name": "python",
   "nbconvert_exporter": "python",
   "pygments_lexer": "ipython3",
   "version": "3.8.3"
  }
 },
 "nbformat": 4,
 "nbformat_minor": 4
}
