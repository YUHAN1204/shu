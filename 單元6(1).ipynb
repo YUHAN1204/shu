{
 "cells": [
  {
   "cell_type": "code",
   "execution_count": 1,
   "metadata": {},
   "outputs": [
    {
     "name": "stdout",
     "output_type": "stream",
     "text": [
      "Learning Python is fun!\n",
      "Learning Python is fun!\n",
      "Learning Python is fun!\n",
      "Learning Python is fun!\n",
      "Learning Python is fun!\n",
      "Learning Python is fun!\n",
      "Learning Python is fun!\n",
      "Learning Python is fun!\n",
      "Learning Python is fun!\n",
      "Learning Python is fun!\n",
      "Learning Python is fun!\n",
      "Learning Python is fun!\n",
      "Learning Python is fun!\n",
      "Learning Python is fun!\n",
      "Learning Python is fun!\n",
      "Learning Python is fun!\n",
      "Learning Python is fun!\n",
      "Learning Python is fun!\n",
      "Learning Python is fun!\n",
      "Learning Python is fun!\n",
      "Learning Python is fun!\n",
      "Learning Python is fun!\n",
      "Learning Python is fun!\n",
      "Learning Python is fun!\n",
      "Learning Python is fun!\n",
      "Learning Python is fun!\n",
      "Learning Python is fun!\n",
      "Learning Python is fun!\n",
      "Learning Python is fun!\n",
      "Learning Python is fun!\n",
      "Learning Python is fun!\n",
      "Learning Python is fun!\n",
      "Learning Python is fun!\n",
      "Learning Python is fun!\n",
      "Learning Python is fun!\n",
      "Learning Python is fun!\n",
      "Learning Python is fun!\n",
      "Learning Python is fun!\n",
      "Learning Python is fun!\n",
      "Learning Python is fun!\n",
      "Learning Python is fun!\n",
      "Learning Python is fun!\n",
      "Learning Python is fun!\n",
      "Learning Python is fun!\n",
      "Learning Python is fun!\n",
      "Learning Python is fun!\n",
      "Learning Python is fun!\n",
      "Learning Python is fun!\n",
      "Learning Python is fun!\n",
      "Learning Python is fun!\n",
      "Learning Python is fun!\n",
      "Learning Python is fun!\n",
      "Learning Python is fun!\n",
      "Learning Python is fun!\n",
      "Learning Python is fun!\n",
      "Learning Python is fun!\n",
      "Learning Python is fun!\n",
      "Learning Python is fun!\n",
      "Learning Python is fun!\n",
      "Learning Python is fun!\n",
      "Learning Python is fun!\n",
      "Learning Python is fun!\n",
      "Learning Python is fun!\n",
      "Learning Python is fun!\n",
      "Learning Python is fun!\n",
      "Learning Python is fun!\n",
      "Learning Python is fun!\n",
      "Learning Python is fun!\n",
      "Learning Python is fun!\n",
      "Learning Python is fun!\n",
      "Learning Python is fun!\n",
      "Learning Python is fun!\n",
      "Learning Python is fun!\n",
      "Learning Python is fun!\n",
      "Learning Python is fun!\n",
      "Learning Python is fun!\n",
      "Learning Python is fun!\n",
      "Learning Python is fun!\n",
      "Learning Python is fun!\n",
      "Learning Python is fun!\n",
      "Learning Python is fun!\n",
      "Learning Python is fun!\n",
      "Learning Python is fun!\n",
      "Learning Python is fun!\n",
      "Learning Python is fun!\n",
      "Learning Python is fun!\n",
      "Learning Python is fun!\n",
      "Learning Python is fun!\n",
      "Learning Python is fun!\n",
      "Learning Python is fun!\n",
      "Learning Python is fun!\n",
      "Learning Python is fun!\n",
      "Learning Python is fun!\n",
      "Learning Python is fun!\n",
      "Learning Python is fun!\n",
      "Learning Python is fun!\n",
      "Learning Python is fun!\n",
      "Learning Python is fun!\n",
      "Learning Python is fun!\n",
      "Learning Python is fun!\n"
     ]
    }
   ],
   "source": [
    "count=1\n",
    "while count <=100:\n",
    "    print('Learning Python is fun!')\n",
    "    count=count+1"
   ]
  },
  {
   "cell_type": "code",
   "execution_count": 2,
   "metadata": {},
   "outputs": [
    {
     "name": "stdout",
     "output_type": "stream",
     "text": [
      "1+2+3+...+100= 5050\n"
     ]
    }
   ],
   "source": [
    "total=0\n",
    "k=1\n",
    "while k <=100:\n",
    " total=total+k\n",
    " k=k+1\n",
    "print('1+2+3+...+100=',total)"
   ]
  },
  {
   "cell_type": "code",
   "execution_count": 3,
   "metadata": {},
   "outputs": [
    {
     "name": "stdout",
     "output_type": "stream",
     "text": [
      "2+4+6+...+100= 2550\n"
     ]
    }
   ],
   "source": [
    "evenTotal=0\n",
    "k=2\n",
    "while k <=100:\n",
    " evenTotal = evenTotal+k\n",
    " k=k+2\n",
    "print('2+4+6+...+100=',evenTotal)"
   ]
  },
  {
   "cell_type": "code",
   "execution_count": 4,
   "metadata": {},
   "outputs": [
    {
     "name": "stdout",
     "output_type": "stream",
     "text": [
      "1\n",
      "2\n",
      "3\n",
      "4\n",
      "5\n"
     ]
    }
   ],
   "source": [
    "for k in range(1,6):\n",
    "  print(k)  "
   ]
  },
  {
   "cell_type": "code",
   "execution_count": 6,
   "metadata": {},
   "outputs": [
    {
     "name": "stdout",
     "output_type": "stream",
     "text": [
      "0\n",
      "1\n",
      "2\n",
      "3\n",
      "4\n",
      "5\n"
     ]
    }
   ],
   "source": [
    "for k in range(6):\n",
    "  print(k)  "
   ]
  },
  {
   "cell_type": "code",
   "execution_count": 7,
   "metadata": {},
   "outputs": [
    {
     "name": "stdout",
     "output_type": "stream",
     "text": [
      "1\n",
      "3\n",
      "5\n",
      "7\n",
      "9\n"
     ]
    }
   ],
   "source": [
    "for k in range(1,10,2):\n",
    "  print(k) "
   ]
  },
  {
   "cell_type": "code",
   "execution_count": 8,
   "metadata": {},
   "outputs": [
    {
     "name": "stdout",
     "output_type": "stream",
     "text": [
      "10\n",
      "9\n",
      "8\n",
      "7\n",
      "6\n",
      "5\n",
      "4\n",
      "3\n",
      "2\n"
     ]
    }
   ],
   "source": [
    "for k in range(10,1,-1):\n",
    "  print(k) "
   ]
  },
  {
   "cell_type": "code",
   "execution_count": 9,
   "metadata": {},
   "outputs": [
    {
     "name": "stdout",
     "output_type": "stream",
     "text": [
      "10\n",
      "8\n",
      "6\n",
      "4\n",
      "2\n"
     ]
    }
   ],
   "source": [
    "for k in range(10,1,-2):\n",
    "  print(k) "
   ]
  },
  {
   "cell_type": "code",
   "execution_count": 10,
   "metadata": {},
   "outputs": [
    {
     "name": "stdout",
     "output_type": "stream",
     "text": [
      "Learning Python is fun\n",
      "Learning Python is fun\n",
      "Learning Python is fun\n",
      "Learning Python is fun\n",
      "Learning Python is fun\n",
      "Learning Python is fun\n",
      "Learning Python is fun\n",
      "Learning Python is fun\n",
      "Learning Python is fun\n",
      "Learning Python is fun\n",
      "Learning Python is fun\n",
      "Learning Python is fun\n",
      "Learning Python is fun\n",
      "Learning Python is fun\n",
      "Learning Python is fun\n",
      "Learning Python is fun\n",
      "Learning Python is fun\n",
      "Learning Python is fun\n",
      "Learning Python is fun\n",
      "Learning Python is fun\n",
      "Learning Python is fun\n",
      "Learning Python is fun\n",
      "Learning Python is fun\n",
      "Learning Python is fun\n",
      "Learning Python is fun\n",
      "Learning Python is fun\n",
      "Learning Python is fun\n",
      "Learning Python is fun\n",
      "Learning Python is fun\n",
      "Learning Python is fun\n",
      "Learning Python is fun\n",
      "Learning Python is fun\n",
      "Learning Python is fun\n",
      "Learning Python is fun\n",
      "Learning Python is fun\n",
      "Learning Python is fun\n",
      "Learning Python is fun\n",
      "Learning Python is fun\n",
      "Learning Python is fun\n",
      "Learning Python is fun\n",
      "Learning Python is fun\n",
      "Learning Python is fun\n",
      "Learning Python is fun\n",
      "Learning Python is fun\n",
      "Learning Python is fun\n",
      "Learning Python is fun\n",
      "Learning Python is fun\n",
      "Learning Python is fun\n",
      "Learning Python is fun\n",
      "Learning Python is fun\n",
      "Learning Python is fun\n",
      "Learning Python is fun\n",
      "Learning Python is fun\n",
      "Learning Python is fun\n",
      "Learning Python is fun\n",
      "Learning Python is fun\n",
      "Learning Python is fun\n",
      "Learning Python is fun\n",
      "Learning Python is fun\n",
      "Learning Python is fun\n",
      "Learning Python is fun\n",
      "Learning Python is fun\n",
      "Learning Python is fun\n",
      "Learning Python is fun\n",
      "Learning Python is fun\n",
      "Learning Python is fun\n",
      "Learning Python is fun\n",
      "Learning Python is fun\n",
      "Learning Python is fun\n",
      "Learning Python is fun\n",
      "Learning Python is fun\n",
      "Learning Python is fun\n",
      "Learning Python is fun\n",
      "Learning Python is fun\n",
      "Learning Python is fun\n",
      "Learning Python is fun\n",
      "Learning Python is fun\n",
      "Learning Python is fun\n",
      "Learning Python is fun\n",
      "Learning Python is fun\n",
      "Learning Python is fun\n",
      "Learning Python is fun\n",
      "Learning Python is fun\n",
      "Learning Python is fun\n",
      "Learning Python is fun\n",
      "Learning Python is fun\n",
      "Learning Python is fun\n",
      "Learning Python is fun\n",
      "Learning Python is fun\n",
      "Learning Python is fun\n",
      "Learning Python is fun\n",
      "Learning Python is fun\n",
      "Learning Python is fun\n",
      "Learning Python is fun\n",
      "Learning Python is fun\n",
      "Learning Python is fun\n",
      "Learning Python is fun\n",
      "Learning Python is fun\n",
      "Learning Python is fun\n",
      "Learning Python is fun\n"
     ]
    }
   ],
   "source": [
    "for k in range(1,101):\n",
    "  print('Learning Python is fun') "
   ]
  },
  {
   "cell_type": "code",
   "execution_count": 11,
   "metadata": {},
   "outputs": [
    {
     "name": "stdout",
     "output_type": "stream",
     "text": [
      "1+2+3+...+100= 4950\n"
     ]
    }
   ],
   "source": [
    "total=0\n",
    "for i in range(1,100):\n",
    "  total+=i\n",
    "print('1+2+3+...+100=',total)"
   ]
  },
  {
   "cell_type": "code",
   "execution_count": 12,
   "metadata": {},
   "outputs": [
    {
     "name": "stdout",
     "output_type": "stream",
     "text": [
      "2+4+6+...+100= 2550\n"
     ]
    }
   ],
   "source": [
    "total=0\n",
    "for i in range(2,101,2):\n",
    "  total+=i\n",
    "print('2+4+6+...+100=',total)"
   ]
  },
  {
   "cell_type": "code",
   "execution_count": 14,
   "metadata": {},
   "outputs": [
    {
     "name": "stdout",
     "output_type": "stream",
     "text": [
      "The number is 14\n",
      "Total is 105\n"
     ]
    }
   ],
   "source": [
    "total=0 \n",
    "number=0\n",
    "while True:\n",
    "  number+=1\n",
    "  total+=number\n",
    "  if total>=100:\n",
    "     break\n",
    "print('The number is',number)\n",
    "print('Total is',total)"
   ]
  },
  {
   "cell_type": "code",
   "execution_count": 15,
   "metadata": {},
   "outputs": [
    {
     "name": "stdout",
     "output_type": "stream",
     "text": [
      "The number is 64\n",
      "Total is 1056\n"
     ]
    }
   ],
   "source": [
    "total=0 \n",
    "number=0\n",
    "while True:\n",
    "  number+=2\n",
    "  total+=number\n",
    "  if total>=1000:\n",
    "     break\n",
    "print('The number is',number)\n",
    "print('Total is',total)"
   ]
  },
  {
   "cell_type": "code",
   "execution_count": 18,
   "metadata": {},
   "outputs": [
    {
     "name": "stdout",
     "output_type": "stream",
     "text": [
      "The total is 4000\n"
     ]
    }
   ],
   "source": [
    "total=0 \n",
    "number=1\n",
    "while number<=100:\n",
    " if number%5==0:\n",
    "    number+=1\n",
    "    continue\n",
    " total+=number\n",
    " number+=1\n",
    "print('The total is',total)"
   ]
  },
  {
   "cell_type": "code",
   "execution_count": 19,
   "metadata": {},
   "outputs": [
    {
     "name": "stdout",
     "output_type": "stream",
     "text": [
      "The total is 1050\n"
     ]
    }
   ],
   "source": [
    "total=0 \n",
    "number=0\n",
    "while number<=100:\n",
    " number+=1\n",
    " if number%5!=0:\n",
    "    continue\n",
    " total+=number\n",
    "print('The total is',total)"
   ]
  },
  {
   "cell_type": "code",
   "execution_count": 20,
   "metadata": {},
   "outputs": [
    {
     "name": "stdout",
     "output_type": "stream",
     "text": [
      "The total is 10\n"
     ]
    }
   ],
   "source": [
    "total=0 \n",
    "number=0\n",
    "while number<=100:\n",
    " number+=1\n",
    " if number%5==0:\n",
    "    break\n",
    " total+=number\n",
    "print('The total is',total)"
   ]
  },
  {
   "cell_type": "code",
   "execution_count": 21,
   "metadata": {},
   "outputs": [
    {
     "name": "stdout",
     "output_type": "stream",
     "text": [
      "1+3+5+...+99= 2500\n"
     ]
    }
   ],
   "source": [
    "oddTotal=0\n",
    "k=1\n",
    "while k <=100:\n",
    "  oddTotal=oddTotal+k\n",
    "  k=k+2\n",
    "print('1+3+5+...+99=',oddTotal)"
   ]
  },
  {
   "cell_type": "code",
   "execution_count": 22,
   "metadata": {},
   "outputs": [
    {
     "name": "stdout",
     "output_type": "stream",
     "text": [
      "i= 1\n",
      "   j= 1\n",
      "   j= 2\n",
      "   j= 3\n",
      "   j= 4\n",
      "   j= 5\n",
      "   j= 6\n",
      "   j= 7\n",
      "   j= 8\n",
      "   j= 9\n",
      "\n",
      "i= 2\n",
      "   j= 1\n",
      "   j= 2\n",
      "   j= 3\n",
      "   j= 4\n",
      "   j= 5\n",
      "   j= 6\n",
      "   j= 7\n",
      "   j= 8\n",
      "   j= 9\n",
      "\n",
      "i= 3\n",
      "   j= 1\n",
      "   j= 2\n",
      "   j= 3\n",
      "   j= 4\n",
      "   j= 5\n",
      "   j= 6\n",
      "   j= 7\n",
      "   j= 8\n",
      "   j= 9\n",
      "\n",
      "i= 4\n",
      "   j= 1\n",
      "   j= 2\n",
      "   j= 3\n",
      "   j= 4\n",
      "   j= 5\n",
      "   j= 6\n",
      "   j= 7\n",
      "   j= 8\n",
      "   j= 9\n",
      "\n",
      "i= 5\n",
      "   j= 1\n",
      "   j= 2\n",
      "   j= 3\n",
      "   j= 4\n",
      "   j= 5\n",
      "   j= 6\n",
      "   j= 7\n",
      "   j= 8\n",
      "   j= 9\n",
      "\n",
      "i= 6\n",
      "   j= 1\n",
      "   j= 2\n",
      "   j= 3\n",
      "   j= 4\n",
      "   j= 5\n",
      "   j= 6\n",
      "   j= 7\n",
      "   j= 8\n",
      "   j= 9\n",
      "\n",
      "i= 7\n",
      "   j= 1\n",
      "   j= 2\n",
      "   j= 3\n",
      "   j= 4\n",
      "   j= 5\n",
      "   j= 6\n",
      "   j= 7\n",
      "   j= 8\n",
      "   j= 9\n",
      "\n",
      "i= 8\n",
      "   j= 1\n",
      "   j= 2\n",
      "   j= 3\n",
      "   j= 4\n",
      "   j= 5\n",
      "   j= 6\n",
      "   j= 7\n",
      "   j= 8\n",
      "   j= 9\n",
      "\n",
      "i= 9\n",
      "   j= 1\n",
      "   j= 2\n",
      "   j= 3\n",
      "   j= 4\n",
      "   j= 5\n",
      "   j= 6\n",
      "   j= 7\n",
      "   j= 8\n",
      "   j= 9\n",
      "\n"
     ]
    }
   ],
   "source": [
    "for i in range(1,10):\n",
    "  print('i=',i)\n",
    "  for j in range(1,10):\n",
    "    print('   j=',j)\n",
    "  print('')  "
   ]
  },
  {
   "cell_type": "code",
   "execution_count": 23,
   "metadata": {},
   "outputs": [
    {
     "name": "stdout",
     "output_type": "stream",
     "text": [
      "1*1= 1\n",
      "1*2= 2\n",
      "1*3= 3\n",
      "1*4= 4\n",
      "1*5= 5\n",
      "1*6= 6\n",
      "1*7= 7\n",
      "1*8= 8\n",
      "1*9= 9\n",
      "2*1= 2\n",
      "2*2= 4\n",
      "2*3= 6\n",
      "2*4= 8\n",
      "2*5=10\n",
      "2*6=12\n",
      "2*7=14\n",
      "2*8=16\n",
      "2*9=18\n",
      "3*1= 3\n",
      "3*2= 6\n",
      "3*3= 9\n",
      "3*4=12\n",
      "3*5=15\n",
      "3*6=18\n",
      "3*7=21\n",
      "3*8=24\n",
      "3*9=27\n",
      "4*1= 4\n",
      "4*2= 8\n",
      "4*3=12\n",
      "4*4=16\n",
      "4*5=20\n",
      "4*6=24\n",
      "4*7=28\n",
      "4*8=32\n",
      "4*9=36\n",
      "5*1= 5\n",
      "5*2=10\n",
      "5*3=15\n",
      "5*4=20\n",
      "5*5=25\n",
      "5*6=30\n",
      "5*7=35\n",
      "5*8=40\n",
      "5*9=45\n",
      "6*1= 6\n",
      "6*2=12\n",
      "6*3=18\n",
      "6*4=24\n",
      "6*5=30\n",
      "6*6=36\n",
      "6*7=42\n",
      "6*8=48\n",
      "6*9=54\n",
      "7*1= 7\n",
      "7*2=14\n",
      "7*3=21\n",
      "7*4=28\n",
      "7*5=35\n",
      "7*6=42\n",
      "7*7=49\n",
      "7*8=56\n",
      "7*9=63\n",
      "8*1= 8\n",
      "8*2=16\n",
      "8*3=24\n",
      "8*4=32\n",
      "8*5=40\n",
      "8*6=48\n",
      "8*7=56\n",
      "8*8=64\n",
      "8*9=72\n",
      "9*1= 9\n",
      "9*2=18\n",
      "9*3=27\n",
      "9*4=36\n",
      "9*5=45\n",
      "9*6=54\n",
      "9*7=63\n",
      "9*8=72\n",
      "9*9=81\n"
     ]
    }
   ],
   "source": [
    "for i in range(1,10):\n",
    "  for j in range(1,10):\n",
    "      print('%d*%d=%2d'%(i,j,i*j))"
   ]
  },
  {
   "cell_type": "code",
   "execution_count": 26,
   "metadata": {},
   "outputs": [
    {
     "name": "stdout",
     "output_type": "stream",
     "text": [
      "1*1= 11*2= 21*3= 31*4= 41*5= 51*6= 61*7= 71*8= 81*9= 92*1= 22*2= 42*3= 62*4= 82*5=102*6=122*7=142*8=162*9=183*1= 33*2= 63*3= 93*4=123*5=153*6=183*7=213*8=243*9=274*1= 44*2= 84*3=124*4=164*5=204*6=244*7=284*8=324*9=365*1= 55*2=105*3=155*4=205*5=255*6=305*7=355*8=405*9=456*1= 66*2=126*3=186*4=246*5=306*6=366*7=426*8=486*9=547*1= 77*2=147*3=217*4=287*5=357*6=427*7=497*8=567*9=638*1= 88*2=168*3=248*4=328*5=408*6=488*7=568*8=648*9=729*1= 99*2=189*3=279*4=369*5=459*6=549*7=639*8=729*9=81"
     ]
    }
   ],
   "source": [
    "for i in range(1,10):\n",
    "  for j in range(1,10):\n",
    "    print('%d*%d=%2d'%(i,j,i*j),end='')"
   ]
  },
  {
   "cell_type": "code",
   "execution_count": 27,
   "metadata": {},
   "outputs": [
    {
     "name": "stdout",
     "output_type": "stream",
     "text": [
      "1*1= 11*2= 21*3= 31*4= 41*5= 51*6= 61*7= 71*8= 81*9= 9\n",
      "2*1= 22*2= 42*3= 62*4= 82*5=102*6=122*7=142*8=162*9=18\n",
      "3*1= 33*2= 63*3= 93*4=123*5=153*6=183*7=213*8=243*9=27\n",
      "4*1= 44*2= 84*3=124*4=164*5=204*6=244*7=284*8=324*9=36\n",
      "5*1= 55*2=105*3=155*4=205*5=255*6=305*7=355*8=405*9=45\n",
      "6*1= 66*2=126*3=186*4=246*5=306*6=366*7=426*8=486*9=54\n",
      "7*1= 77*2=147*3=217*4=287*5=357*6=427*7=497*8=567*9=63\n",
      "8*1= 88*2=168*3=248*4=328*5=408*6=488*7=568*8=648*9=72\n",
      "9*1= 99*2=189*3=279*4=369*5=459*6=549*7=639*8=729*9=81\n"
     ]
    }
   ],
   "source": [
    "for i in range(1,10):\n",
    "  for j in range(1,10):    \n",
    "    print('%d*%d=%2d'%(i,j,i*j),end='')\n",
    "  print()  "
   ]
  },
  {
   "cell_type": "code",
   "execution_count": 28,
   "metadata": {},
   "outputs": [
    {
     "name": "stdout",
     "output_type": "stream",
     "text": [
      "1*1= 12*1= 23*1= 34*1= 45*1= 56*1= 67*1= 78*1= 89*1= 9\n",
      "1*2= 22*2= 43*2= 64*2= 85*2=106*2=127*2=148*2=169*2=18\n",
      "1*3= 32*3= 63*3= 94*3=125*3=156*3=187*3=218*3=249*3=27\n",
      "1*4= 42*4= 83*4=124*4=165*4=206*4=247*4=288*4=329*4=36\n",
      "1*5= 52*5=103*5=154*5=205*5=256*5=307*5=358*5=409*5=45\n",
      "1*6= 62*6=123*6=184*6=245*6=306*6=367*6=428*6=489*6=54\n",
      "1*7= 72*7=143*7=214*7=285*7=356*7=427*7=498*7=569*7=63\n",
      "1*8= 82*8=163*8=244*8=325*8=406*8=487*8=568*8=649*8=72\n",
      "1*9= 92*9=183*9=274*9=365*9=456*9=547*9=638*9=729*9=81\n"
     ]
    }
   ],
   "source": [
    "for i in range(1,10):\n",
    "  for j in range(1,10):    \n",
    "    print('%d*%d=%2d'%(j,i,i*j),end='')\n",
    "  print()  "
   ]
  },
  {
   "cell_type": "code",
   "execution_count": 30,
   "metadata": {},
   "outputs": [
    {
     "name": "stdout",
     "output_type": "stream",
     "text": [
      "3994286854520276355112949475956228610408191252127313691622991166745853016439640987910022296212378799207112617935212738859999738753342467925429857943931804634598750957611392311558821613710017016"
     ]
    }
   ],
   "source": [
    "import random\n",
    "for i in range(1,101):\n",
    "  randomNumber=random.randint(1,100)\n",
    "  print(randomNumber,end='')"
   ]
  },
  {
   "cell_type": "code",
   "execution_count": 32,
   "metadata": {},
   "outputs": [
    {
     "name": "stdout",
     "output_type": "stream",
     "text": [
      "64498749665031276917809145849587678881819346610792226216948293782923978870948557373179276140431004113506880185759161183862469297684789195127066398578923052100110037686359609051418565337261934229577687\n",
      "Even number: 48 \n",
      "Odd number: 52\n"
     ]
    }
   ],
   "source": [
    "import random\n",
    "evenCount=0\n",
    "oddCount=0\n",
    "for i in range(1,101):\n",
    "  randomNumber=random.randint(1,100)  \n",
    "  print(randomNumber,end='')\n",
    "  if randomNumber%2==0:\n",
    "     evenCount+=1\n",
    "oddCount=100-evenCount\n",
    "\n",
    "\n",
    "print('\\nEven number:',evenCount,'\\nOdd number:',oddCount)"
   ]
  },
  {
   "cell_type": "code",
   "execution_count": 2,
   "metadata": {},
   "outputs": [
    {
     "name": "stdout",
     "output_type": "stream",
     "text": [
      "   59    6   32   49   55    3   92   50   31   73\n",
      "   90   82   73    7   49   21   23   58  100   29\n",
      "   36   33   53    8   10   11   24   72   62   38\n",
      "   70    5   34  100    7   76   13   88   43   65\n",
      "   74    4    7   36    8   51   71   87   25   72\n",
      "   71   58   22   89   53   85   13   65   44   13\n",
      "   37   69   59   85   37   94   54   35   87   67\n",
      "   77   60   93    9   16   93   62   12   48   19\n",
      "   53   18   35   57   68   27   71   94   42   31\n",
      "   25   42   57   30   55   86   29   59   32   42\n",
      "\n",
      "Even number: 44 \n",
      "Odd number: 56\n"
     ]
    }
   ],
   "source": [
    "import random\n",
    "evenCount=0\n",
    "oddCount=0\n",
    "\n",
    "\n",
    "for i in range(1,101):\n",
    "  randomNumber=random.randint(1,100)   \n",
    "  if i % 10==0:\n",
    "     print('%5d'%(randomNumber))\n",
    "  else:  \n",
    "     print('%5d'%(randomNumber),end='')\n",
    "  if randomNumber % 2==0:  \n",
    "     evenCount+=1\n",
    "oddCount=100-evenCount\n",
    "print('\\nEven number:',evenCount,'\\nOdd number:',oddCount) "
   ]
  },
  {
   "cell_type": "code",
   "execution_count": 4,
   "metadata": {},
   "outputs": [
    {
     "name": "stdout",
     "output_type": "stream",
     "text": [
      "Please input an integer:223\n",
      "223 is prime number\n"
     ]
    }
   ],
   "source": [
    "number=eval(input('Please input an integer:'))\n",
    "divisor=2\n",
    "flag=1\n",
    "while divisor<number:\n",
    " if number % divisor ==0:\n",
    "    #If true,number is not prime number\n",
    "    flag=0\n",
    "    break\n",
    " divisor+=1\n",
    "if flag==0:\n",
    "   print(number,'is not prime number')\n",
    "else:\n",
    "   print(number,'is prime number') "
   ]
  },
  {
   "cell_type": "code",
   "execution_count": 5,
   "metadata": {},
   "outputs": [
    {
     "name": "stdout",
     "output_type": "stream",
     "text": [
      "Please input an integer:223\n",
      "223 is prime number\n"
     ]
    }
   ],
   "source": [
    "number=eval(input('Please input an integer:'))\n",
    "divisor=2\n",
    "flag=1\n",
    "while divisor<=number / 2:\n",
    " if number % divisor ==0:\n",
    "    #If true,number is not prime number\n",
    "    flag=0\n",
    "    break\n",
    " divisor+=1\n",
    "if flag==0:\n",
    "   print(number,'is not prime number')\n",
    "else:\n",
    "   print(number,'is prime number') "
   ]
  },
  {
   "cell_type": "code",
   "execution_count": 6,
   "metadata": {},
   "outputs": [
    {
     "name": "stdout",
     "output_type": "stream",
     "text": [
      "2357111317192329313741434753596167717379838997101103107109113127131137139149151157163167173179181191193197199211223227229233239241251257263269271277281283293307311313317331337347349353359367373379383389397401409419421431433439443449457461463467479487491499503509521523541547557563569571577587593599601607613617619631641643647653659661673677683691701709719727733739743751757761769773787797809811821823827829839853857859863877881883887907911919929937941947953967971977983991997"
     ]
    }
   ],
   "source": [
    "for number in range(2,1001):\n",
    "  divisor=2\n",
    "  flag=1\n",
    "  while divisor <=number/2:\n",
    "   if number % divisor ==0:\n",
    "      flag=0\n",
    "      break\n",
    "   divisor+=1\n",
    "  if flag==1:\n",
    "     print(number,end='')"
   ]
  },
  {
   "cell_type": "code",
   "execution_count": 7,
   "metadata": {},
   "outputs": [
    {
     "name": "stdout",
     "output_type": "stream",
     "text": [
      "    2    3    5    7   11   13   17   19   23   29\n",
      "   31   37   41   43   47   53   59   61   67   71\n",
      "   73   79   83   89   97  101  103  107  109  113\n",
      "  127  131  137  139  149  151  157  163  167  173\n",
      "  179  181  191  193  197  199  211  223  227  229\n",
      "  233  239  241  251  257  263  269  271  277  281\n",
      "  283  293  307  311  313  317  331  337  347  349\n",
      "  353  359  367  373  379  383  389  397  401  409\n",
      "  419  421  431  433  439  443  449  457  461  463\n",
      "  467  479  487  491  499  503  509  521  523  541\n",
      "  547  557  563  569  571  577  587  593  599  601\n",
      "  607  613  617  619  631  641  643  647  653  659\n",
      "  661  673  677  683  691  701  709  719  727  733\n",
      "  739  743  751  757  761  769  773  787  797  809\n",
      "  811  821  823  827  829  839  853  857  859  863\n",
      "  877  881  883  887  907  911  919  929  937  941\n",
      "  947  953  967  971  977  983  991  997"
     ]
    }
   ],
   "source": [
    "count=0\n",
    "for number in range(2,1001):\n",
    "  divisor=2\n",
    "  flag=1\n",
    "  while divisor <=number/2:\n",
    "   if number % divisor ==0:\n",
    "      flag=0\n",
    "      break\n",
    "   divisor+=1\n",
    "  if flag==1:\n",
    "     count+=1\n",
    "     if count % 10==0:\n",
    "        print('%5d'%(number))  \n",
    "     else:\n",
    "        print('%5d'%(number),end='')  "
   ]
  },
  {
   "cell_type": "code",
   "execution_count": 8,
   "metadata": {},
   "outputs": [
    {
     "name": "stdout",
     "output_type": "stream",
     "text": [
      "Please input an integer:125\n",
      "Please input an integer:2525\n",
      "The GCD for 125 and 2525 is 25\n"
     ]
    }
   ],
   "source": [
    "number1=eval(input('Please input an integer:'))\n",
    "number2=eval(input('Please input an integer:'))\n",
    "gcd=1\n",
    "k=2\n",
    "while k<= number1 and k<= number2:\n",
    " if number1 % k==0 and number2 % k==0:\n",
    "    gcd=k\n",
    " k+=1\n",
    "print('The GCD for',number1,'and',number2,'is',gcd)"
   ]
  },
  {
   "cell_type": "code",
   "execution_count": 13,
   "metadata": {},
   "outputs": [
    {
     "name": "stdout",
     "output_type": "stream",
     "text": [
      "Please input an number1:1\n",
      "Please input an denominator1:2\n",
      "Please input an number2:1\n",
      "Please input an denominator2:6\n",
      "The GCD for 8 and 12 is 4\n",
      "8/2+12/6=\n",
      "2/3\n"
     ]
    }
   ],
   "source": [
    "number1=eval(input('Please input an number1:'))\n",
    "denominator1=eval(input('Please input an denominator1:'))\n",
    "\n",
    "\n",
    "number2=eval(input('Please input an number2:'))\n",
    "denominator2=eval(input('Please input an denominator2:'))\n",
    "\n",
    "\n",
    "number1=number1*denominator2+number2*denominator1\n",
    "number2=denominator1*denominator2\n",
    "\n",
    "\n",
    "gcd=1\n",
    "k=2\n",
    "while k<= number1 and k<= number2:\n",
    " if number1 % k==0 and number2 % k==0:\n",
    "    gcd=k\n",
    " k+=1\n",
    "print('The GCD for',number1,'and',number2,'is',gcd)\n",
    "print('%d/%d+%d/%d='%(number1,denominator1,number2,\n",
    "                  denominator2))\n",
    "print('%d/%d'%(number1/gcd,number2/gcd))"
   ]
  },
  {
   "cell_type": "code",
   "execution_count": 14,
   "metadata": {},
   "outputs": [
    {
     "name": "stdout",
     "output_type": "stream",
     "text": [
      "261842232518"
     ]
    }
   ],
   "source": [
    "import random\n",
    "for i in range(1,7):\n",
    "  k=random.randint(1,49)\n",
    "  print(k,end='')"
   ]
  },
  {
   "cell_type": "code",
   "execution_count": 15,
   "metadata": {},
   "outputs": [
    {
     "name": "stdout",
     "output_type": "stream",
     "text": [
      "1050\n"
     ]
    }
   ],
   "source": [
    "fiveMulti=0\n",
    "k=5\n",
    "while k<=100:\n",
    " fiveMulti+=k\n",
    " k+=5\n",
    "print(fiveMulti)    "
   ]
  },
  {
   "cell_type": "code",
   "execution_count": 17,
   "metadata": {},
   "outputs": [
    {
     "name": "stdout",
     "output_type": "stream",
     "text": [
      "0123456789\n",
      "23456789\n",
      "13579\n",
      "9753\n"
     ]
    }
   ],
   "source": [
    "for i in range(10):\n",
    "  print(i,end='')\n",
    "print('')\n",
    "\n",
    "\n",
    "for i in range(2,10):\n",
    "  print(i,end='')\n",
    "print('')\n",
    "\n",
    "\n",
    "for i in range(1,10,2):\n",
    "  print(i,end='')\n",
    "print('')\n",
    "\n",
    "\n",
    "for i in range(9,1,-2):\n",
    "  print(i,end='')\n",
    "print('')"
   ]
  },
  {
   "cell_type": "code",
   "execution_count": 18,
   "metadata": {},
   "outputs": [
    {
     "name": "stdout",
     "output_type": "stream",
     "text": [
      "  0  1  2  3  4  5  6  7  8  9\n",
      "  2  3  4  5  6  7  8  9\n",
      "  1  3  5  7  9\n",
      "  9  7  5  3\n"
     ]
    }
   ],
   "source": [
    "for i in range(10):\n",
    "  print('%3d'%(i),end='')\n",
    "print('')\n",
    "\n",
    "\n",
    "for i in range(2,10):\n",
    "  print('%3d'%(i),end='')\n",
    "print('')\n",
    "\n",
    "\n",
    "for i in range(1,10,2):\n",
    "  print('%3d'%(i),end='')\n",
    "print('')\n",
    "\n",
    "\n",
    "for i in range(9,1,-2):\n",
    "  print('%3d'%(i),end='')\n",
    "print('')"
   ]
  },
  {
   "cell_type": "code",
   "execution_count": 19,
   "metadata": {},
   "outputs": [
    {
     "name": "stdout",
     "output_type": "stream",
     "text": [
      "1+2+3+...+100=5050\n"
     ]
    }
   ],
   "source": [
    "total=0\n",
    "num=0\n",
    "while True:\n",
    " num+=1\n",
    " total+=num\n",
    " if total >=5050:\n",
    "    break\n",
    "print('1+2+3+...+%d=%d'%(num,total))"
   ]
  },
  {
   "cell_type": "code",
   "execution_count": 20,
   "metadata": {},
   "outputs": [
    {
     "name": "stdout",
     "output_type": "stream",
     "text": [
      "1+3+5..+99= 2500\n"
     ]
    }
   ],
   "source": [
    "total=0\n",
    "num=0\n",
    "while num <=100:\n",
    " if num %2==0:\n",
    "    num+=1\n",
    "    continue\n",
    " total+=num\n",
    " num+=1\n",
    "print('1+3+5..+99=',total)"
   ]
  },
  {
   "cell_type": "code",
   "execution_count": 22,
   "metadata": {},
   "outputs": [
    {
     "name": "stdout",
     "output_type": "stream",
     "text": [
      "1+3+5..+99= 2500\n"
     ]
    }
   ],
   "source": [
    "total=0\n",
    "for i in range(1,101):\n",
    "  if i % 2 ==1:\n",
    "     total +=i\n",
    "  else:\n",
    "     continue\n",
    "print('1+3+5..+99=',total)"
   ]
  },
  {
   "cell_type": "code",
   "execution_count": 23,
   "metadata": {},
   "outputs": [
    {
     "name": "stdout",
     "output_type": "stream",
     "text": [
      "*******************************************************\n"
     ]
    }
   ],
   "source": [
    "for i in range(10):\n",
    "  for j in range(i,10):\n",
    "    print('*',end='')\n",
    "print('')  "
   ]
  },
  {
   "cell_type": "code",
   "execution_count": 24,
   "metadata": {},
   "outputs": [
    {
     "name": "stdout",
     "output_type": "stream",
     "text": [
      "\n",
      "*\n",
      "**\n",
      "***\n",
      "****\n",
      "*****\n",
      "******\n",
      "*******\n",
      "********\n"
     ]
    }
   ],
   "source": [
    "for i in range(9):\n",
    "  for j in range(i):\n",
    "    print('*',end='')\n",
    "  print('')  "
   ]
  },
  {
   "cell_type": "code",
   "execution_count": 25,
   "metadata": {},
   "outputs": [
    {
     "name": "stdout",
     "output_type": "stream",
     "text": [
      "total = 5150\n"
     ]
    }
   ],
   "source": [
    "total=0\n",
    "i =1\n",
    "while i <=100:\n",
    "    i +=1\n",
    "    total +=i\n",
    "print('total = %d'%total)"
   ]
  },
  {
   "cell_type": "code",
   "execution_count": 26,
   "metadata": {},
   "outputs": [
    {
     "name": "stdout",
     "output_type": "stream",
     "text": [
      "total = 5050\n"
     ]
    }
   ],
   "source": [
    "total=0\n",
    "i =1\n",
    "while i <=100:\n",
    "    total +=i\n",
    "    i +=1\n",
    "print('total = %d'%total)"
   ]
  },
  {
   "cell_type": "code",
   "execution_count": 28,
   "metadata": {},
   "outputs": [
    {
     "name": "stdout",
     "output_type": "stream",
     "text": [
      " 1 2 3 4 5 6 7 8\n",
      " 1 2 3 4 5 6 7\n",
      " 1 2 3 4 5 6\n",
      " 1 2 3 4 5\n",
      " 1 2 3 4\n",
      " 1 2 3\n",
      " 1 2\n",
      " 1\n",
      "\n"
     ]
    }
   ],
   "source": [
    "i =8\n",
    "while i >=1:\n",
    "    j = 1\n",
    "    while j <=i:\n",
    "        print('%2d'%(j),end='')\n",
    "        j +=1\n",
    "    print()\n",
    "    i -=1\n",
    "print()"
   ]
  },
  {
   "cell_type": "code",
   "execution_count": 29,
   "metadata": {},
   "outputs": [
    {
     "name": "stdout",
     "output_type": "stream",
     "text": [
      "total = 0\n"
     ]
    }
   ],
   "source": [
    "total=0\n",
    "for i in range(100,1,2):\n",
    "    total +=i\n",
    "print('total = %d'%(total))"
   ]
  },
  {
   "cell_type": "code",
   "execution_count": 30,
   "metadata": {},
   "outputs": [
    {
     "name": "stdout",
     "output_type": "stream",
     "text": [
      "total = 2550\n"
     ]
    }
   ],
   "source": [
    "total=0\n",
    "for i in range(100,1,-2):\n",
    "    total +=i\n",
    "print('total = %d'%(total))"
   ]
  },
  {
   "cell_type": "code",
   "execution_count": null,
   "metadata": {},
   "outputs": [],
   "source": []
  }
 ],
 "metadata": {
  "kernelspec": {
   "display_name": "Python 3",
   "language": "python",
   "name": "python3"
  },
  "language_info": {
   "codemirror_mode": {
    "name": "ipython",
    "version": 3
   },
   "file_extension": ".py",
   "mimetype": "text/x-python",
   "name": "python",
   "nbconvert_exporter": "python",
   "pygments_lexer": "ipython3",
   "version": "3.8.3"
  }
 },
 "nbformat": 4,
 "nbformat_minor": 4
}
